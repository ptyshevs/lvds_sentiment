{
 "cells": [
  {
   "cell_type": "code",
   "execution_count": 1,
   "metadata": {},
   "outputs": [
    {
     "name": "stderr",
     "output_type": "stream",
     "text": [
      "/usr/lib/python3.6/importlib/_bootstrap.py:219: RuntimeWarning: numpy.ufunc size changed, may indicate binary incompatibility. Expected 216, got 192\n",
      "  return f(*args, **kwds)\n",
      "/usr/lib/python3.6/importlib/_bootstrap.py:219: RuntimeWarning: numpy.ufunc size changed, may indicate binary incompatibility. Expected 216, got 192\n",
      "  return f(*args, **kwds)\n"
     ]
    }
   ],
   "source": [
    "import pandas as pd\n",
    "import numpy as np\n",
    "from textblob import TextBlob"
   ]
  },
  {
   "cell_type": "code",
   "execution_count": 2,
   "metadata": {},
   "outputs": [],
   "source": [
    "df = pd.read_csv('clean_imdb.csv')"
   ]
  },
  {
   "cell_type": "code",
   "execution_count": 4,
   "metadata": {},
   "outputs": [],
   "source": [
    "x = df.loc[0, 'clean_text']"
   ]
  },
  {
   "cell_type": "code",
   "execution_count": 26,
   "metadata": {},
   "outputs": [
    {
     "data": {
      "text/html": [
       "<div>\n",
       "<style scoped>\n",
       "    .dataframe tbody tr th:only-of-type {\n",
       "        vertical-align: middle;\n",
       "    }\n",
       "\n",
       "    .dataframe tbody tr th {\n",
       "        vertical-align: top;\n",
       "    }\n",
       "\n",
       "    .dataframe thead th {\n",
       "        text-align: right;\n",
       "    }\n",
       "</style>\n",
       "<table border=\"1\" class=\"dataframe\">\n",
       "  <thead>\n",
       "    <tr style=\"text-align: right;\">\n",
       "      <th></th>\n",
       "      <th>text</th>\n",
       "      <th>clean_text</th>\n",
       "      <th>class</th>\n",
       "    </tr>\n",
       "  </thead>\n",
       "  <tbody>\n",
       "    <tr>\n",
       "      <th>0</th>\n",
       "      <td>I have to admit when I went to see this movie,...</td>\n",
       "      <td>admit went see movie really high expectations ...</td>\n",
       "      <td>0</td>\n",
       "    </tr>\n",
       "  </tbody>\n",
       "</table>\n",
       "</div>"
      ],
      "text/plain": [
       "                                                text  \\\n",
       "0  I have to admit when I went to see this movie,...   \n",
       "\n",
       "                                          clean_text  class  \n",
       "0  admit went see movie really high expectations ...      0  "
      ]
     },
     "execution_count": 26,
     "metadata": {},
     "output_type": "execute_result"
    }
   ],
   "source": [
    "df.head(1)"
   ]
  },
  {
   "cell_type": "code",
   "execution_count": 6,
   "metadata": {},
   "outputs": [],
   "source": [
    "blob = TextBlob(x)"
   ]
  },
  {
   "cell_type": "code",
   "execution_count": 9,
   "metadata": {},
   "outputs": [
    {
     "data": {
      "text/plain": [
       "Sentiment(polarity=-0.04945121951219512, subjectivity=0.5659146341463416, assessments=[(['really', 'high'], 0.16, 0.5399999999999999, None), (['low'], 0.0, 0.3, None), (['totally', 'utterly', 'disappointed'], -0.75, 0.75, None), (['hot'], 0.25, 0.8500000000000001, None), (['slightly', 'crazy'], -0.6, 0.9, None), (['slight'], -0.16666666666666666, 0.16666666666666666, None), (['pretty'], 0.25, 1.0, None), (['much'], 0.2, 0.2, None), (['actually', 'liked'], 0.6, 0.8, None), (['hot'], 0.25, 0.8500000000000001, None), (['strange'], -0.05, 0.15, None), (['least'], -0.3, 0.4, None), (['clearly'], 0.10000000000000002, 0.3833333333333333, None), (['hot'], 0.25, 0.8500000000000001, None), (['far'], 0.1, 1.0, None), (['hot'], 0.25, 0.8500000000000001, None), (['normally', 'acting'], 0.0, 0.0, None), (['unrealistic'], -0.5, 1.0, None), (['annoying'], -0.8, 0.9, None), (['comical'], 0.5, 1.0, None), (['gay'], 0.4166666666666667, 0.5833333333333334, None), (['desperate'], -0.6, 1.0, None), (['painful'], -0.7, 0.9, None), (['charming'], 0.7, 1.0, None), (['funny'], 0.25, 1.0, None), (['nearly'], 0.1, 0.4, None), (['really', 'hard'], -0.2916666666666667, 0.5416666666666666, None), (['properly'], 0.0, 0.1, None), (['blonde'], 0.0, 0.0, None), (['typical'], -0.16666666666666666, 0.5, None), (['overall'], 0.0, 0.0, None), (['typical'], -0.16666666666666666, 0.5, None), (['absolutely', 'no'], -0.1, 0.9, None), (['especially'], 0.0, 1.0, None), (['mean'], -0.3125, 0.6875, None), (['acting'], 0.0, 0.0, None), (['fluid'], 0.0, 0.1, None), (['actually'], 0.0, 0.1, None), (['overall'], 0.0, 0.0, None), (['not', 'waste'], 0.1, 0.0, None), (['pathetic'], -1.0, 1.0, None)])"
      ]
     },
     "execution_count": 9,
     "metadata": {},
     "output_type": "execute_result"
    }
   ],
   "source": [
    "blob.sentiment_assessments"
   ]
  },
  {
   "cell_type": "code",
   "execution_count": 12,
   "metadata": {},
   "outputs": [],
   "source": [
    "x_cor = blob.correct()"
   ]
  },
  {
   "cell_type": "code",
   "execution_count": null,
   "metadata": {},
   "outputs": [],
   "source": []
  },
  {
   "cell_type": "code",
   "execution_count": 22,
   "metadata": {},
   "outputs": [
    {
     "name": "stdout",
     "output_type": "stream",
     "text": [
      "admit admit\n",
      "went go\n",
      "see see\n",
      "movie movie\n",
      "really really\n",
      "high high\n",
      "expectations expectation\n",
      "even even\n",
      "low low\n",
      "expectations expectation\n",
      "totally totally\n",
      "utterly utterly\n",
      "disappointed disappoint\n",
      "basically basically\n",
      "luke luke\n",
      "wilson wilson\n",
      "hot hot\n",
      "shot shot\n",
      "tends tends\n",
      "go go\n",
      "slightly slightly\n",
      "crazy crazy\n",
      "girlfriend girlfriend\n",
      "slight slight\n",
      "mention mention\n",
      "girl girl\n",
      "talking talk\n",
      "pretty pretty\n",
      "much much\n",
      "character character\n",
      "quite quite\n",
      "mind mind\n",
      "cause cause\n",
      "None\n",
      "would would\n",
      "probably probably\n",
      "underdeveloped underdeveloped\n",
      "rest rest\n",
      "movie movie\n",
      "subways subway\n",
      "rain rain\n",
      "wilson wilson\n",
      "actually actually\n",
      "liked liked\n",
      "movie movie\n",
      "convinces convinces\n",
      "talk talk\n",
      "hot hot\n",
      "girl girl\n",
      "ma ma\n",
      "human human\n",
      "strange strange\n",
      "say say\n",
      "least least\n",
      "everyone everyone\n",
      "clearly clearly\n",
      "see see\n",
      "ma ma\n",
      "human human\n",
      "not not\n",
      "belong belong\n",
      "category category\n",
      "hot hot\n",
      "rain rain\n",
      "wilson wilson\n",
      "performance performance\n",
      "also also\n",
      "far far\n",
      "hot hot\n",
      "normally normally\n",
      "acting act\n",
      "even even\n",
      "savage savage\n",
      "movie movie\n",
      "character character\n",
      "jump jump\n",
      "realistic realistic\n",
      "rather rather\n",
      "annoying annoy\n",
      "never never\n",
      "tell tell\n",
      "writers writer\n",
      "trying try\n",
      "make make\n",
      "comical comical\n",
      "token token\n",
      "closet closet\n",
      "gay gay\n",
      "guy guy\n",
      "desperate desperate\n",
      "almost almost\n",
      "painful painful\n",
      "anyway anyway\n",
      "someone someone\n",
      "steals steal\n",
      "purse purse\n",
      "goes go\n",
      "leave leave\n",
      "subways subway\n",
      "luke luke\n",
      "wilson wilson\n",
      "charming charm\n",
      "savior savior\n",
      "runs run\n",
      "robber robber\n",
      "know know\n",
      "ma ma\n",
      "human human\n",
      "superhero superhero\n",
      "girl girl\n",
      "None\n",
      "like like\n",
      "call call\n",
      "movie movie\n",
      "still still\n",
      "baffled baffle\n",
      "stands stand\n",
      "leave leave\n",
      "message message\n",
      "boards board\n",
      "debate debate\n",
      "sex sex\n",
      "scenes scene\n",
      "assume assume\n",
      "supposed suppose\n",
      "funny funny\n",
      "find find\n",
      "asking ask\n",
      "sex sex\n",
      "None\n",
      "like like\n",
      "nearly nearly\n",
      "throw throw\n",
      "bed bed\n",
      "wall wall\n",
      "ma ma\n",
      "human human\n",
      "passion passion\n",
      "let let\n",
      "say say\n",
      "makes make\n",
      "head head\n",
      "hurt hurt\n",
      "not not\n",
      "thinking think\n",
      "really really\n",
      "hard hard\n",
      "understand understand\n",
      "way way\n",
      "ma ma\n",
      "insults insult\n",
      "anna anna\n",
      "paris paris\n",
      "calling call\n",
      "None\n",
      "where where\n",
      "None\n",
      "no no\n",
      "debate debate\n",
      "apart apart\n",
      "fact fact\n",
      "choose choose\n",
      "moves move\n",
      "properly properly\n",
      "act act\n",
      "relief relief\n",
      "soul soul\n",
      "fact fact\n",
      "blonde blonde\n",
      "typical typical\n",
      "overall overall\n",
      "None\n",
      "would would\n",
      "walked walk\n",
      "theater theater\n",
      "paid pay\n",
      "see see\n",
      "characters character\n",
      "typical typical\n",
      "absolutely absolutely\n",
      "None\n",
      "no no\n",
      "chemistry chemistry\n",
      "especially especially\n",
      "ma ma\n",
      "human human\n",
      "someone someone\n",
      "let let\n",
      "know know\n",
      "move move\n",
      "head head\n",
      "lot lot\n",
      "mean mean\n",
      "acting act\n",
      "also also\n",
      "script script\n",
      "storyline storyline\n",
      "used use\n",
      "None\n",
      "either either\n",
      "lot lot\n",
      "work work\n",
      "match match\n",
      "lighter light\n",
      "fluid fluid\n",
      "actually actually\n",
      "started start\n",
      "feel feel\n",
      "embarrassed embarrassed\n",
      "actors actor\n",
      "dying die\n",
      "careers career\n",
      "overall overall\n",
      "value value\n",
      "money money\n",
      "self self\n",
      "respect respect\n",
      "not not\n",
      "waste waste\n",
      "time time\n",
      "pathetic pathetic\n",
      "attempt attempt\n",
      "movie movie\n"
     ]
    }
   ],
   "source": [
    "lem = []\n",
    "for v, tag in x_cor.tags:\n",
    "    try:\n",
    "        lem.append(v.lemmatize(tag))\n",
    "        print(v, v.lemmatize(tag))\n",
    "    except Exception:\n",
    "        print(v, v)\n",
    "        lem.append(v)\n",
    "x_lem = ' '.join(lem)"
   ]
  },
  {
   "cell_type": "code",
   "execution_count": 23,
   "metadata": {},
   "outputs": [],
   "source": [
    "lem_blob = TextBlob(x_lem)"
   ]
  },
  {
   "cell_type": "code",
   "execution_count": 25,
   "metadata": {},
   "outputs": [
    {
     "data": {
      "text/plain": [
       "Sentiment(polarity=0.0009108527131782872, subjectivity=0.5078100775193799, assessments=[(['really', 'high'], 0.16, 0.5399999999999999, None), (['low'], 0.0, 0.3, None), (['totally', 'utterly'], 0.0, 1.0, None), (['hot'], 0.25, 0.8500000000000001, None), (['slightly', 'crazy'], -0.6, 0.9, None), (['slight'], -0.16666666666666666, 0.16666666666666666, None), (['pretty'], 0.25, 1.0, None), (['much'], 0.2, 0.2, None), (['actually', 'liked'], 0.6, 0.8, None), (['hot'], 0.25, 0.8500000000000001, None), (['human'], 0.0, 0.1, None), (['strange'], -0.05, 0.15, None), (['least'], -0.3, 0.4, None), (['clearly'], 0.10000000000000002, 0.3833333333333333, None), (['human'], 0.0, 0.1, None), (['hot'], 0.25, 0.8500000000000001, None), (['far'], 0.1, 1.0, None), (['hot'], 0.25, 0.8500000000000001, None), (['normally'], 0.15, 0.6499999999999999, None), (['realistic'], 0.16666666666666666, 0.3333333333333333, None), (['comical'], 0.5, 1.0, None), (['gay'], 0.4166666666666667, 0.5833333333333334, None), (['desperate'], -0.6, 1.0, None), (['painful'], -0.7, 0.9, None), (['human'], 0.0, 0.1, None), (['funny'], 0.25, 1.0, None), (['nearly'], 0.1, 0.4, None), (['human'], 0.0, 0.1, None), (['really', 'hard'], -0.2916666666666667, 0.5416666666666666, None), (['properly'], 0.0, 0.1, None), (['blonde'], 0.0, 0.0, None), (['typical'], -0.16666666666666666, 0.5, None), (['overall'], 0.0, 0.0, None), (['typical'], -0.16666666666666666, 0.5, None), (['absolutely', 'no'], -0.1, 0.9, None), (['especially', 'human'], 0.0, 0.2, None), (['mean'], -0.3125, 0.6875, None), (['light'], 0.4, 0.7, None), (['fluid'], 0.0, 0.1, None), (['actually'], 0.0, 0.1, None), (['overall'], 0.0, 0.0, None), (['not', 'waste'], 0.1, 0.0, None), (['pathetic'], -1.0, 1.0, None)])"
      ]
     },
     "execution_count": 25,
     "metadata": {},
     "output_type": "execute_result"
    }
   ],
   "source": [
    "lem_blob.sentiment_assessments"
   ]
  },
  {
   "cell_type": "code",
   "execution_count": null,
   "metadata": {},
   "outputs": [],
   "source": []
  }
 ],
 "metadata": {
  "kernelspec": {
   "display_name": "Python 3",
   "language": "python",
   "name": "python3"
  },
  "language_info": {
   "codemirror_mode": {
    "name": "ipython",
    "version": 3
   },
   "file_extension": ".py",
   "mimetype": "text/x-python",
   "name": "python",
   "nbconvert_exporter": "python",
   "pygments_lexer": "ipython3",
   "version": "3.6.8"
  }
 },
 "nbformat": 4,
 "nbformat_minor": 2
}
