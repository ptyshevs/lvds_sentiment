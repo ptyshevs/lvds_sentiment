{
 "cells": [
  {
   "cell_type": "markdown",
   "metadata": {},
   "source": [
    "# Idea:\n",
    "\n",
    "Take best current model, analyze misclassifications"
   ]
  },
  {
   "cell_type": "code",
   "execution_count": 3,
   "metadata": {},
   "outputs": [],
   "source": [
    "import numpy as np\n",
    "import pandas as pd"
   ]
  },
  {
   "cell_type": "code",
   "execution_count": 4,
   "metadata": {},
   "outputs": [],
   "source": [
    "df = pd.read_csv('enh_data.csv')"
   ]
  },
  {
   "cell_type": "code",
   "execution_count": 5,
   "metadata": {},
   "outputs": [
    {
     "name": "stderr",
     "output_type": "stream",
     "text": [
      "/home/ptyshevskyi/envs/loc_env/lib/python3.6/site-packages/sklearn/externals/six.py:31: DeprecationWarning: The module is deprecated in version 0.21 and will be removed in version 0.23 since we've dropped support for Python 2.7. Please rely on the official version of six (https://pypi.org/project/six/).\n",
      "  \"(https://pypi.org/project/six/).\", DeprecationWarning)\n"
     ]
    }
   ],
   "source": [
    "from sklearn.model_selection import train_test_split\n",
    "from sklearn.metrics import accuracy_score, classification_report\n",
    "from sklearn.linear_model import LogisticRegression, SGDClassifier\n",
    "from sklearn.svm import LinearSVC, SVC\n",
    "from sklearn.feature_extraction.text import TfidfVectorizer\n",
    "from textblob import TextBlob\n",
    "from sklearn.ensemble import RandomForestClassifier, GradientBoostingClassifier\n",
    "from vecstack import stacking\n"
   ]
  },
  {
   "cell_type": "code",
   "execution_count": 6,
   "metadata": {},
   "outputs": [],
   "source": [
    "np.random.seed(42)\n",
    "pdf = df.reindex(np.random.permutation(df.index))"
   ]
  },
  {
   "cell_type": "code",
   "execution_count": 7,
   "metadata": {},
   "outputs": [],
   "source": [
    "T_train, T_test, X_train, X_test, y_train, y_test = train_test_split(pdf['clean_text'], pdf.loc[:, ['sentiment', 'subjectivity']], pdf['class'], test_size=.33, random_state=42)"
   ]
  },
  {
   "cell_type": "code",
   "execution_count": 6,
   "metadata": {},
   "outputs": [],
   "source": [
    "vec = TfidfVectorizer(max_features=50000, ngram_range=(1, 4))\n",
    "X_train_enc = vec.fit_transform(T_train)\n",
    "X_test_enc = vec.transform(T_test)"
   ]
  },
  {
   "cell_type": "code",
   "execution_count": 12,
   "metadata": {},
   "outputs": [
    {
     "name": "stdout",
     "output_type": "stream",
     "text": [
      "0.8272727272727273\n"
     ]
    }
   ],
   "source": [
    "lr = LogisticRegression(random_state=42, solver='lbfgs')\n",
    "lr.fit(X_train_enc, y_train)\n",
    "print(accuracy_score(y_test, lr.predict(X_test_enc)))"
   ]
  },
  {
   "cell_type": "code",
   "execution_count": 13,
   "metadata": {},
   "outputs": [
    {
     "name": "stdout",
     "output_type": "stream",
     "text": [
      "0.8621212121212121\n"
     ]
    }
   ],
   "source": [
    "svm = LinearSVC(random_state=42)\n",
    "svm.fit(X_train_enc, y_train)\n",
    "print(accuracy_score(y_test, svm.predict(X_test_enc)))"
   ]
  },
  {
   "cell_type": "code",
   "execution_count": 9,
   "metadata": {},
   "outputs": [
    {
     "data": {
      "text/html": [
       "<div>\n",
       "<style scoped>\n",
       "    .dataframe tbody tr th:only-of-type {\n",
       "        vertical-align: middle;\n",
       "    }\n",
       "\n",
       "    .dataframe tbody tr th {\n",
       "        vertical-align: top;\n",
       "    }\n",
       "\n",
       "    .dataframe thead th {\n",
       "        text-align: right;\n",
       "    }\n",
       "</style>\n",
       "<table border=\"1\" class=\"dataframe\">\n",
       "  <thead>\n",
       "    <tr style=\"text-align: right;\">\n",
       "      <th></th>\n",
       "      <th>text</th>\n",
       "      <th>clean_text</th>\n",
       "      <th>clean_text_lemma</th>\n",
       "      <th>clean_text_neg</th>\n",
       "      <th>text_lem_cor</th>\n",
       "      <th>sentiment</th>\n",
       "      <th>subjectivity</th>\n",
       "      <th>class</th>\n",
       "    </tr>\n",
       "  </thead>\n",
       "  <tbody>\n",
       "    <tr>\n",
       "      <th>0</th>\n",
       "      <td>plot : two teen couples go to a church party ,...</td>\n",
       "      <td>plot two teen couples go church party drink dr...</td>\n",
       "      <td>plot two teen couple go church party drink dri...</td>\n",
       "      <td>plot two teen couples go church party drink dr...</td>\n",
       "      <td>plot teen couple go church party drink drive g...</td>\n",
       "      <td>-0.011356</td>\n",
       "      <td>0.500699</td>\n",
       "      <td>0</td>\n",
       "    </tr>\n",
       "  </tbody>\n",
       "</table>\n",
       "</div>"
      ],
      "text/plain": [
       "                                                text  \\\n",
       "0  plot : two teen couples go to a church party ,...   \n",
       "\n",
       "                                          clean_text  \\\n",
       "0  plot two teen couples go church party drink dr...   \n",
       "\n",
       "                                    clean_text_lemma  \\\n",
       "0  plot two teen couple go church party drink dri...   \n",
       "\n",
       "                                      clean_text_neg  \\\n",
       "0  plot two teen couples go church party drink dr...   \n",
       "\n",
       "                                        text_lem_cor  sentiment  subjectivity  \\\n",
       "0  plot teen couple go church party drink drive g...  -0.011356      0.500699   \n",
       "\n",
       "   class  \n",
       "0      0  "
      ]
     },
     "execution_count": 9,
     "metadata": {},
     "output_type": "execute_result"
    }
   ],
   "source": [
    "df.head(1)"
   ]
  },
  {
   "cell_type": "code",
   "execution_count": 21,
   "metadata": {},
   "outputs": [],
   "source": [
    "vec = TfidfVectorizer(max_features=50000, ngram_range=(1, 4))\n",
    "X_train_enc = vec.fit_transform(X_train)\n",
    "X_test_enc = vec.transform(X_test)"
   ]
  },
  {
   "cell_type": "code",
   "execution_count": 12,
   "metadata": {},
   "outputs": [
    {
     "name": "stdout",
     "output_type": "stream",
     "text": [
      "0.8227272727272728\n"
     ]
    }
   ],
   "source": [
    "lr = LogisticRegression(random_state=42, solver='lbfgs')\n",
    "lr.fit(X_train_enc, y_train)\n",
    "print(accuracy_score(y_test, lr.predict(X_test_enc)))"
   ]
  },
  {
   "cell_type": "code",
   "execution_count": 13,
   "metadata": {},
   "outputs": [
    {
     "name": "stdout",
     "output_type": "stream",
     "text": [
      "0.8469696969696969\n"
     ]
    }
   ],
   "source": [
    "svm = LinearSVC(random_state=42)\n",
    "svm.fit(X_train_enc, y_train)\n",
    "print(accuracy_score(y_test, svm.predict(X_test_enc)))"
   ]
  },
  {
   "cell_type": "code",
   "execution_count": 14,
   "metadata": {},
   "outputs": [],
   "source": [
    "misclassified = np.where(y_test != svm.predict(X_test_enc))"
   ]
  },
  {
   "cell_type": "code",
   "execution_count": 15,
   "metadata": {},
   "outputs": [
    {
     "name": "stdout",
     "output_type": "stream",
     "text": [
      "True label 0 | Pred label [1]\n",
      "various film see seattle film festival true men raft u director orson welles recently uncover fourth\n",
      "Sentiment= Sentiment(polarity=0.07661624551159435, subjectivity=0.46390566797543564)\n",
      "True label 1 | Pred label [0]\n",
      "lake placid definately typical creature attack people movie maybe enjoyable clever actually come com\n",
      "Sentiment= Sentiment(polarity=0.11121455075536711, subjectivity=0.6121841593780368)\n",
      "True label 1 | Pred label [0]\n",
      "boom introduction music finish camera sweep red mountain see figure look barren red landscape kiss w\n",
      "Sentiment= Sentiment(polarity=0.09758771929824561, subjectivity=0.5733474310776943)\n",
      "True label 0 | Pred label [1]\n",
      "giant begin monologue funny distinctive princess medieval fairy tale feel pleasantly surprise sharp \n",
      "Sentiment= Sentiment(polarity=0.09841327561327565, subjectivity=0.6619111592111593)\n",
      "True label 0 | Pred label [1]\n",
      "walt disney studio finally meet match lush animation twentieth century fox anastasia judge late effo\n",
      "Sentiment= Sentiment(polarity=0.09111111111111111, subjectivity=0.4377777777777778)\n"
     ]
    }
   ],
   "source": [
    "for id in misclassified[0][:5]:\n",
    "    x, y = X_test.iloc[id], y_test.iloc[id]\n",
    "    print(f\"True label {y} | Pred label {svm.predict(X_test_enc[id])}\")\n",
    "    print(x[:100])\n",
    "    xblob = TextBlob(x)\n",
    "    print(\"Sentiment=\", xblob.sentiment)"
   ]
  },
  {
   "cell_type": "code",
   "execution_count": 19,
   "metadata": {},
   "outputs": [
    {
     "data": {
      "text/plain": [
       "array([[0.6763202 , 0.3236798 ],\n",
       "       [0.66848483, 0.33151517],\n",
       "       [0.61928957, 0.38071043],\n",
       "       ...,\n",
       "       [0.67088125, 0.32911875],\n",
       "       [0.38278369, 0.61721631],\n",
       "       [0.66781901, 0.33218099]])"
      ]
     },
     "execution_count": 19,
     "metadata": {},
     "output_type": "execute_result"
    }
   ],
   "source": [
    "lr.predict_proba(X_train_enc)"
   ]
  },
  {
   "cell_type": "code",
   "execution_count": 20,
   "metadata": {},
   "outputs": [],
   "source": [
    "lr_pred = np.hstack([lr.predict_proba(X_train_enc)[:, 0], lr.predict_proba(X_test_enc)[:, 0]])"
   ]
  },
  {
   "cell_type": "code",
   "execution_count": 15,
   "metadata": {},
   "outputs": [],
   "source": [
    "from vecstack import stacking\n",
    "import lightgbm\n"
   ]
  },
  {
   "cell_type": "code",
   "execution_count": 16,
   "metadata": {},
   "outputs": [],
   "source": [
    "models = [LogisticRegression(random_state=42), LinearSVC(random_state=42)]"
   ]
  },
  {
   "cell_type": "code",
   "execution_count": 18,
   "metadata": {},
   "outputs": [
    {
     "name": "stdout",
     "output_type": "stream",
     "text": [
      "task:         [classification]\n",
      "n_classes:    [2]\n",
      "metric:       [accuracy_score]\n",
      "mode:         [oof_pred_bag]\n",
      "n_models:     [5]\n",
      "\n",
      "model  0:     [LogisticRegression]\n",
      "    fold  0:  [0.77313433]\n",
      "    fold  1:  [0.80298507]\n"
     ]
    },
    {
     "name": "stderr",
     "output_type": "stream",
     "text": [
      "/home/ptyshevskyi/envs/loc_env/lib/python3.6/site-packages/sklearn/linear_model/logistic.py:432: FutureWarning: Default solver will be changed to 'lbfgs' in 0.22. Specify a solver to silence this warning.\n",
      "  FutureWarning)\n"
     ]
    },
    {
     "name": "stdout",
     "output_type": "stream",
     "text": [
      "    fold  2:  [0.78208955]\n",
      "    fold  3:  [0.84477612]\n",
      "    ----\n",
      "    MEAN:     [0.80074627] + [0.02763210]\n",
      "    FULL:     [0.80074627]\n",
      "\n",
      "model  1:     [LinearSVC]\n",
      "    fold  0:  [0.79701493]\n",
      "    fold  1:  [0.81194030]\n",
      "    fold  2:  [0.80597015]\n",
      "    fold  3:  [0.85074627]\n",
      "    ----\n",
      "    MEAN:     [0.81641791] + [0.02051900]\n",
      "    FULL:     [0.81641791]\n",
      "\n",
      "model  2:     [RandomForestClassifier]\n",
      "    fold  0:  [0.79701493]\n",
      "    fold  1:  [0.77014925]\n",
      "    fold  2:  [0.81492537]\n",
      "    fold  3:  [0.77611940]\n",
      "    ----\n",
      "    MEAN:     [0.78955224] + [0.01772290]\n",
      "    FULL:     [0.78955224]\n",
      "\n",
      "model  3:     [GradientBoostingClassifier]\n",
      "    fold  0:  [0.74626866]\n",
      "    fold  1:  [0.82089552]\n",
      "    fold  2:  [0.78805970]\n",
      "    fold  3:  [0.80298507]\n",
      "    ----\n",
      "    MEAN:     [0.78955224] + [0.02756147]\n",
      "    FULL:     [0.78955224]\n",
      "\n",
      "model  4:     [LGBMClassifier]\n",
      "    fold  0:  [0.79701493]\n",
      "    fold  1:  [0.82089552]\n",
      "    fold  2:  [0.80895522]\n",
      "    fold  3:  [0.79701493]\n",
      "    ----\n",
      "    MEAN:     [0.80597015] + [0.00990037]\n",
      "    FULL:     [0.80597015]\n",
      "\n"
     ]
    }
   ],
   "source": [
    "S_train, S_test = stacking(models,\n",
    "                          X_train_enc, y_train, X_test_enc,\n",
    "                           verbose=2, random_state=42, shuffle=True, regression=False,\n",
    "                          n_folds=4, metric=accuracy_score, mode='oof_pred_bag')"
   ]
  },
  {
   "cell_type": "code",
   "execution_count": 19,
   "metadata": {},
   "outputs": [
    {
     "data": {
      "text/plain": [
       "0.8242424242424242"
      ]
     },
     "execution_count": 19,
     "metadata": {},
     "output_type": "execute_result"
    }
   ],
   "source": [
    "gbm = lightgbm.LGBMClassifier(random_state=42)\n",
    "gbm.fit(S_train, y_train)\n",
    "accuracy_score(y_test, gbm.predict(S_test))"
   ]
  },
  {
   "cell_type": "code",
   "execution_count": 22,
   "metadata": {},
   "outputs": [
    {
     "name": "stdout",
     "output_type": "stream",
     "text": [
      "task:         [classification]\n",
      "n_classes:    [2]\n",
      "metric:       [accuracy_score]\n",
      "mode:         [oof_pred_bag]\n",
      "n_models:     [5]\n",
      "\n",
      "model  0:     [LogisticRegression]\n",
      "    fold  0:  [0.78208955]\n",
      "    fold  1:  [0.79402985]\n"
     ]
    },
    {
     "name": "stderr",
     "output_type": "stream",
     "text": [
      "/home/ptyshevskyi/envs/loc_env/lib/python3.6/site-packages/sklearn/linear_model/logistic.py:432: FutureWarning: Default solver will be changed to 'lbfgs' in 0.22. Specify a solver to silence this warning.\n",
      "  FutureWarning)\n"
     ]
    },
    {
     "name": "stdout",
     "output_type": "stream",
     "text": [
      "    fold  2:  [0.79701493]\n",
      "    fold  3:  [0.82388060]\n",
      "    ----\n",
      "    MEAN:     [0.79925373] + [0.01527574]\n",
      "    FULL:     [0.79925373]\n",
      "\n",
      "model  1:     [LinearSVC]\n",
      "    fold  0:  [0.80000000]\n",
      "    fold  1:  [0.81194030]\n",
      "    fold  2:  [0.82388060]\n",
      "    fold  3:  [0.85671642]\n",
      "    ----\n",
      "    MEAN:     [0.82313433] + [0.02114720]\n",
      "    FULL:     [0.82313433]\n",
      "\n",
      "model  2:     [RandomForestClassifier]\n",
      "    fold  0:  [0.80298507]\n",
      "    fold  1:  [0.80895522]\n",
      "    fold  2:  [0.80895522]\n",
      "    fold  3:  [0.78507463]\n",
      "    ----\n",
      "    MEAN:     [0.80149254] + [0.00978722]\n",
      "    FULL:     [0.80149254]\n",
      "\n",
      "model  3:     [GradientBoostingClassifier]\n",
      "    fold  0:  [0.77611940]\n",
      "    fold  1:  [0.80000000]\n",
      "    fold  2:  [0.76417910]\n",
      "    fold  3:  [0.79104478]\n",
      "    ----\n",
      "    MEAN:     [0.78283582] + [0.01374026]\n",
      "    FULL:     [0.78283582]\n",
      "\n",
      "model  4:     [LGBMClassifier]\n",
      "    fold  0:  [0.81194030]\n",
      "    fold  1:  [0.83582090]\n",
      "    fold  2:  [0.78208955]\n",
      "    fold  3:  [0.80895522]\n",
      "    ----\n",
      "    MEAN:     [0.80970149] + [0.01904082]\n",
      "    FULL:     [0.80970149]\n",
      "\n"
     ]
    }
   ],
   "source": [
    "S_train, S_test = stacking(models,\n",
    "                          X_train_enc, y_train, X_test_enc,\n",
    "                           verbose=2, random_state=42, shuffle=True, regression=False,\n",
    "                          n_folds=4, metric=accuracy_score, mode='oof_pred_bag')"
   ]
  },
  {
   "cell_type": "code",
   "execution_count": 29,
   "metadata": {},
   "outputs": [
    {
     "data": {
      "text/plain": [
       "(1340, 5)"
      ]
     },
     "execution_count": 29,
     "metadata": {},
     "output_type": "execute_result"
    }
   ],
   "source": [
    "S_train.shape"
   ]
  },
  {
   "cell_type": "code",
   "execution_count": 30,
   "metadata": {},
   "outputs": [
    {
     "data": {
      "text/plain": [
       "(1340,)"
      ]
     },
     "execution_count": 30,
     "metadata": {},
     "output_type": "execute_result"
    }
   ],
   "source": [
    "X_train.shape"
   ]
  },
  {
   "cell_type": "code",
   "execution_count": 52,
   "metadata": {},
   "outputs": [],
   "source": [
    "S_train_cmb = np.vstack((X_train.T, S_train.T)).T"
   ]
  },
  {
   "cell_type": "code",
   "execution_count": 53,
   "metadata": {},
   "outputs": [
    {
     "data": {
      "text/plain": [
       "(1340, 7)"
      ]
     },
     "execution_count": 53,
     "metadata": {},
     "output_type": "execute_result"
    }
   ],
   "source": [
    "S_train_cmb.shape"
   ]
  },
  {
   "cell_type": "code",
   "execution_count": 54,
   "metadata": {},
   "outputs": [],
   "source": [
    "S_test_cmb = np.vstack((X_test.T, S_test.T)).T"
   ]
  },
  {
   "cell_type": "code",
   "execution_count": 60,
   "metadata": {},
   "outputs": [
    {
     "data": {
      "text/plain": [
       "0.8272727272727273"
      ]
     },
     "execution_count": 60,
     "metadata": {},
     "output_type": "execute_result"
    }
   ],
   "source": [
    "gbm = lightgbm.LGBMClassifier(random_state=42)\n",
    "gbm.fit(S_train, y_train)\n",
    "accuracy_score(y_test, gbm.predict(S_test))"
   ]
  },
  {
   "cell_type": "code",
   "execution_count": 61,
   "metadata": {},
   "outputs": [
    {
     "data": {
      "text/plain": [
       "0.806060606060606"
      ]
     },
     "execution_count": 61,
     "metadata": {},
     "output_type": "execute_result"
    }
   ],
   "source": [
    "gbm.fit(S_train_cmb, y_train)\n",
    "accuracy_score(y_test, gbm.predict(S_test_cmb))"
   ]
  },
  {
   "cell_type": "code",
   "execution_count": 11,
   "metadata": {},
   "outputs": [],
   "source": [
    "df_imdb = pd.read_csv('clean_imdb.csv')\n",
    "np.random.seed(42)\n",
    "pdf_imdb = df_imdb.reindex(np.random.permutation(df_imdb.index))"
   ]
  },
  {
   "cell_type": "code",
   "execution_count": 20,
   "metadata": {},
   "outputs": [
    {
     "data": {
      "text/html": [
       "<div>\n",
       "<style scoped>\n",
       "    .dataframe tbody tr th:only-of-type {\n",
       "        vertical-align: middle;\n",
       "    }\n",
       "\n",
       "    .dataframe tbody tr th {\n",
       "        vertical-align: top;\n",
       "    }\n",
       "\n",
       "    .dataframe thead th {\n",
       "        text-align: right;\n",
       "    }\n",
       "</style>\n",
       "<table border=\"1\" class=\"dataframe\">\n",
       "  <thead>\n",
       "    <tr style=\"text-align: right;\">\n",
       "      <th></th>\n",
       "      <th>text</th>\n",
       "      <th>clean_text</th>\n",
       "      <th>clean_text_lemma</th>\n",
       "      <th>clean_text_neg</th>\n",
       "      <th>text_lem_cor</th>\n",
       "      <th>sentiment</th>\n",
       "      <th>subjectivity</th>\n",
       "      <th>class</th>\n",
       "    </tr>\n",
       "  </thead>\n",
       "  <tbody>\n",
       "    <tr>\n",
       "      <th>1860</th>\n",
       "      <td>the verdict : spine - chilling drama from horr...</td>\n",
       "      <td>verdict spine chilling drama horror maestro st...</td>\n",
       "      <td>verdict spine chilling drama horror maestro st...</td>\n",
       "      <td>verdict spine chilling drama horror maestro st...</td>\n",
       "      <td>verdict spine chill drama horror maestro steph...</td>\n",
       "      <td>0.134226</td>\n",
       "      <td>0.567851</td>\n",
       "      <td>1</td>\n",
       "    </tr>\n",
       "    <tr>\n",
       "      <th>353</th>\n",
       "      <td>\" the 44 caliber killer has struck again . \" s...</td>\n",
       "      <td>caliber killer struck starring john leguizamo ...</td>\n",
       "      <td>caliber killer struck starring john leguizamo ...</td>\n",
       "      <td>caliber killer struck starring john leguizamo ...</td>\n",
       "      <td>caliber killer struck star john leguizamo mira...</td>\n",
       "      <td>0.069654</td>\n",
       "      <td>0.449724</td>\n",
       "      <td>0</td>\n",
       "    </tr>\n",
       "    <tr>\n",
       "      <th>1333</th>\n",
       "      <td>in the company of men made a splash at the sun...</td>\n",
       "      <td>company men made splash sundance film festival...</td>\n",
       "      <td>company men made splash sundance film festival...</td>\n",
       "      <td>company men made splash sundance film festival...</td>\n",
       "      <td>company men make splash sundance film festival...</td>\n",
       "      <td>0.028181</td>\n",
       "      <td>0.465218</td>\n",
       "      <td>1</td>\n",
       "    </tr>\n",
       "    <tr>\n",
       "      <th>905</th>\n",
       "      <td>in the year 2029 , captain leo davidson ( mark...</td>\n",
       "      <td>year captain leo davidson mark wahlberg boogie...</td>\n",
       "      <td>year captain leo davidson mark wahlberg boogie...</td>\n",
       "      <td>year captain leo davidson mark wahlberg boogie...</td>\n",
       "      <td>year captain davidson mark wahlberg boogie nig...</td>\n",
       "      <td>0.173886</td>\n",
       "      <td>0.533527</td>\n",
       "      <td>0</td>\n",
       "    </tr>\n",
       "    <tr>\n",
       "      <th>1289</th>\n",
       "      <td>[ note that followups are directed to rec . ar...</td>\n",
       "      <td>note followups directed rec arts movies curren...</td>\n",
       "      <td>note followup directed rec art movie current f...</td>\n",
       "      <td>note followups directed rec arts movies curren...</td>\n",
       "      <td>note followup direct rec art movie current fil...</td>\n",
       "      <td>0.142112</td>\n",
       "      <td>0.409155</td>\n",
       "      <td>1</td>\n",
       "    </tr>\n",
       "  </tbody>\n",
       "</table>\n",
       "</div>"
      ],
      "text/plain": [
       "                                                   text  \\\n",
       "1860  the verdict : spine - chilling drama from horr...   \n",
       "353   \" the 44 caliber killer has struck again . \" s...   \n",
       "1333  in the company of men made a splash at the sun...   \n",
       "905   in the year 2029 , captain leo davidson ( mark...   \n",
       "1289  [ note that followups are directed to rec . ar...   \n",
       "\n",
       "                                             clean_text  \\\n",
       "1860  verdict spine chilling drama horror maestro st...   \n",
       "353   caliber killer struck starring john leguizamo ...   \n",
       "1333  company men made splash sundance film festival...   \n",
       "905   year captain leo davidson mark wahlberg boogie...   \n",
       "1289  note followups directed rec arts movies curren...   \n",
       "\n",
       "                                       clean_text_lemma  \\\n",
       "1860  verdict spine chilling drama horror maestro st...   \n",
       "353   caliber killer struck starring john leguizamo ...   \n",
       "1333  company men made splash sundance film festival...   \n",
       "905   year captain leo davidson mark wahlberg boogie...   \n",
       "1289  note followup directed rec art movie current f...   \n",
       "\n",
       "                                         clean_text_neg  \\\n",
       "1860  verdict spine chilling drama horror maestro st...   \n",
       "353   caliber killer struck starring john leguizamo ...   \n",
       "1333  company men made splash sundance film festival...   \n",
       "905   year captain leo davidson mark wahlberg boogie...   \n",
       "1289  note followups directed rec arts movies curren...   \n",
       "\n",
       "                                           text_lem_cor  sentiment  \\\n",
       "1860  verdict spine chill drama horror maestro steph...   0.134226   \n",
       "353   caliber killer struck star john leguizamo mira...   0.069654   \n",
       "1333  company men make splash sundance film festival...   0.028181   \n",
       "905   year captain davidson mark wahlberg boogie nig...   0.173886   \n",
       "1289  note followup direct rec art movie current fil...   0.142112   \n",
       "\n",
       "      subjectivity  class  \n",
       "1860      0.567851      1  \n",
       "353       0.449724      0  \n",
       "1333      0.465218      1  \n",
       "905       0.533527      0  \n",
       "1289      0.409155      1  "
      ]
     },
     "execution_count": 20,
     "metadata": {},
     "output_type": "execute_result"
    }
   ],
   "source": [
    "pdf.head()"
   ]
  },
  {
   "cell_type": "code",
   "execution_count": 21,
   "metadata": {},
   "outputs": [],
   "source": [
    "X_train, X_test, y_train, y_test = pdf_imdb['clean_text'], pdf['clean_text'], pdf_imdb['class'], pdf['class']"
   ]
  },
  {
   "cell_type": "code",
   "execution_count": 28,
   "metadata": {},
   "outputs": [],
   "source": [
    "vec = TfidfVectorizer(max_features=50000, ngram_range=(1, 2))\n",
    "X_train_enc = vec.fit_transform(X_train)\n",
    "X_test_enc = vec.transform(X_test)"
   ]
  },
  {
   "cell_type": "code",
   "execution_count": 29,
   "metadata": {},
   "outputs": [],
   "source": [
    "lr = LogisticRegression(random_state=42)\n",
    "svc = LinearSVC(random_state=42)\n",
    "models = [lr, svc, SGDClassifier(random_state=42, penalty='elasticnet', l1_ratio=.1, learning_rate='optimal')]"
   ]
  },
  {
   "cell_type": "code",
   "execution_count": 30,
   "metadata": {},
   "outputs": [
    {
     "name": "stdout",
     "output_type": "stream",
     "text": [
      "task:         [classification]\n",
      "n_classes:    [2]\n",
      "metric:       [accuracy_score]\n",
      "mode:         [oof_pred_bag]\n",
      "n_models:     [3]\n",
      "\n",
      "model  0:     [LogisticRegression]\n"
     ]
    },
    {
     "name": "stderr",
     "output_type": "stream",
     "text": [
      "/home/ptyshevskyi/envs/loc_env/lib/python3.6/site-packages/sklearn/linear_model/logistic.py:432: FutureWarning: Default solver will be changed to 'lbfgs' in 0.22. Specify a solver to silence this warning.\n",
      "  FutureWarning)\n"
     ]
    },
    {
     "name": "stdout",
     "output_type": "stream",
     "text": [
      "    fold  0:  [0.90510000]\n",
      "    fold  1:  [0.90910000]\n",
      "    fold  2:  [0.89940000]\n",
      "    fold  3:  [0.90000000]\n",
      "    fold  4:  [0.90210000]\n",
      "    ----\n",
      "    MEAN:     [0.90314000] + [0.00358586]\n",
      "    FULL:     [0.90314000]\n",
      "\n",
      "model  1:     [LinearSVC]\n",
      "    fold  0:  [0.91150000]\n",
      "    fold  1:  [0.90850000]\n",
      "    fold  2:  [0.90150000]\n",
      "    fold  3:  [0.90680000]\n",
      "    fold  4:  [0.90730000]\n",
      "    ----\n",
      "    MEAN:     [0.90712000] + [0.00324986]\n",
      "    FULL:     [0.90712000]\n",
      "\n",
      "model  2:     [SGDClassifier]\n",
      "    fold  0:  [0.90010000]\n",
      "    fold  1:  [0.90620000]\n",
      "    fold  2:  [0.89420000]\n",
      "    fold  3:  [0.89610000]\n",
      "    fold  4:  [0.89960000]\n",
      "    ----\n",
      "    MEAN:     [0.89924000] + [0.00411271]\n",
      "    FULL:     [0.89924000]\n",
      "\n"
     ]
    }
   ],
   "source": [
    "S_train, S_test = stacking(models,\n",
    "                          X_train_enc, y_train, X_test_enc,\n",
    "                           verbose=2, random_state=42, shuffle=True, regression=False,\n",
    "                          n_folds=5, metric=accuracy_score, mode='oof_pred_bag')"
   ]
  },
  {
   "cell_type": "code",
   "execution_count": 31,
   "metadata": {},
   "outputs": [],
   "source": [
    "import lightgbm"
   ]
  },
  {
   "cell_type": "code",
   "execution_count": 32,
   "metadata": {},
   "outputs": [
    {
     "data": {
      "text/plain": [
       "0.876"
      ]
     },
     "execution_count": 32,
     "metadata": {},
     "output_type": "execute_result"
    }
   ],
   "source": [
    "gbm = lightgbm.LGBMClassifier(random_state=42)\n",
    "gbm.fit(S_train, y_train)\n",
    "accuracy_score(y_test, gbm.predict(S_test))"
   ]
  },
  {
   "cell_type": "code",
   "execution_count": 18,
   "metadata": {},
   "outputs": [
    {
     "name": "stderr",
     "output_type": "stream",
     "text": [
      "/home/ptyshevskyi/envs/loc_env/lib/python3.6/site-packages/sklearn/linear_model/logistic.py:432: FutureWarning: Default solver will be changed to 'lbfgs' in 0.22. Specify a solver to silence this warning.\n",
      "  FutureWarning)\n"
     ]
    },
    {
     "data": {
      "text/plain": [
       "LogisticRegression(C=1.0, class_weight=None, dual=False, fit_intercept=True,\n",
       "                   intercept_scaling=1, l1_ratio=None, max_iter=100,\n",
       "                   multi_class='warn', n_jobs=None, penalty='l2',\n",
       "                   random_state=42, solver='warn', tol=0.0001, verbose=0,\n",
       "                   warm_start=False)"
      ]
     },
     "execution_count": 18,
     "metadata": {},
     "output_type": "execute_result"
    }
   ],
   "source": [
    "lr.fit(X_train_enc, y_train)"
   ]
  },
  {
   "cell_type": "code",
   "execution_count": 19,
   "metadata": {},
   "outputs": [
    {
     "data": {
      "text/plain": [
       "0.8695"
      ]
     },
     "execution_count": 19,
     "metadata": {},
     "output_type": "execute_result"
    }
   ],
   "source": [
    "accuracy_score(y_test, lr.predict(X_test_enc))"
   ]
  },
  {
   "cell_type": "code",
   "execution_count": null,
   "metadata": {},
   "outputs": [],
   "source": []
  }
 ],
 "metadata": {
  "kernelspec": {
   "display_name": "Python 3",
   "language": "python",
   "name": "python3"
  },
  "language_info": {
   "codemirror_mode": {
    "name": "ipython",
    "version": 3
   },
   "file_extension": ".py",
   "mimetype": "text/x-python",
   "name": "python",
   "nbconvert_exporter": "python",
   "pygments_lexer": "ipython3",
   "version": "3.6.8"
  }
 },
 "nbformat": 4,
 "nbformat_minor": 2
}
