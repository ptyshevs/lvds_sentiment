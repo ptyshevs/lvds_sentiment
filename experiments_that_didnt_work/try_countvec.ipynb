{
 "cells": [
  {
   "cell_type": "code",
   "execution_count": 1,
   "metadata": {},
   "outputs": [],
   "source": [
    "import numpy as np\n",
    "import pandas as pd"
   ]
  },
  {
   "cell_type": "code",
   "execution_count": 3,
   "metadata": {},
   "outputs": [],
   "source": [
    "np.random.seed(42)\n",
    "df = pd.read_csv('clean_data.csv')\n",
    "imdb_df = pd.read_csv('clean_imdb.csv')\n",
    "pdf = df.reindex(np.random.permutation(df.index))\n",
    "np.random.seed(42)\n",
    "imdb_pdf = imdb_df.reindex(np.random.permutation(imdb_df.index))"
   ]
  },
  {
   "cell_type": "code",
   "execution_count": 4,
   "metadata": {},
   "outputs": [],
   "source": [
    "from sklearn.metrics import accuracy_score\n",
    "from sklearn.model_selection import train_test_split\n",
    "from sklearn.linear_model import LogisticRegression, SGDClassifier\n",
    "from sklearn.svm import LinearSVC\n",
    "from sklearn.feature_extraction.text import CountVectorizer"
   ]
  },
  {
   "cell_type": "code",
   "execution_count": 5,
   "metadata": {},
   "outputs": [],
   "source": [
    "X_train, X_test, y_train, y_test = imdb_pdf['clean_text'], pdf['clean_text'], imdb_pdf['class'], pdf['class']"
   ]
  },
  {
   "cell_type": "code",
   "execution_count": 11,
   "metadata": {},
   "outputs": [],
   "source": [
    "vec = CountVectorizer(ngram_range=(1,2))\n",
    "X_train_enc = vec.fit_transform(X_train)\n",
    "X_test_enc = vec.transform(X_test)"
   ]
  },
  {
   "cell_type": "code",
   "execution_count": 12,
   "metadata": {},
   "outputs": [
    {
     "data": {
      "text/plain": [
       "(50000, 3232842)"
      ]
     },
     "execution_count": 12,
     "metadata": {},
     "output_type": "execute_result"
    }
   ],
   "source": [
    "X_train_enc.shape"
   ]
  },
  {
   "cell_type": "code",
   "execution_count": 13,
   "metadata": {},
   "outputs": [],
   "source": [
    "from vecstack import stacking\n",
    "\n",
    "lr = LogisticRegression(random_state=42)\n",
    "svc = LinearSVC(random_state=42)\n",
    "models = [lr, svc, SGDClassifier(random_state=42, penalty='elasticnet', l1_ratio=.1, learning_rate='optimal')]"
   ]
  },
  {
   "cell_type": "code",
   "execution_count": 14,
   "metadata": {},
   "outputs": [
    {
     "name": "stdout",
     "output_type": "stream",
     "text": [
      "task:         [classification]\n",
      "n_classes:    [2]\n",
      "metric:       [accuracy_score]\n",
      "mode:         [oof_pred_bag]\n",
      "n_models:     [3]\n",
      "\n",
      "model  0:     [LogisticRegression]\n"
     ]
    },
    {
     "name": "stderr",
     "output_type": "stream",
     "text": [
      "/home/ptyshevskyi/envs/loc_env/lib/python3.6/site-packages/sklearn/linear_model/logistic.py:432: FutureWarning: Default solver will be changed to 'lbfgs' in 0.22. Specify a solver to silence this warning.\n",
      "  FutureWarning)\n"
     ]
    },
    {
     "name": "stdout",
     "output_type": "stream",
     "text": [
      "    fold  0:  [0.90630000]\n",
      "    fold  1:  [0.90700000]\n",
      "    fold  2:  [0.89740000]\n",
      "    fold  3:  [0.90220000]\n",
      "    fold  4:  [0.90210000]\n",
      "    ----\n",
      "    MEAN:     [0.90300000] + [0.00345543]\n",
      "    FULL:     [0.90300000]\n",
      "\n",
      "model  1:     [LinearSVC]\n"
     ]
    },
    {
     "name": "stderr",
     "output_type": "stream",
     "text": [
      "/home/ptyshevskyi/envs/loc_env/lib/python3.6/site-packages/sklearn/svm/base.py:929: ConvergenceWarning: Liblinear failed to converge, increase the number of iterations.\n",
      "  \"the number of iterations.\", ConvergenceWarning)\n"
     ]
    },
    {
     "name": "stdout",
     "output_type": "stream",
     "text": [
      "    fold  0:  [0.90200000]\n",
      "    fold  1:  [0.90380000]\n",
      "    fold  2:  [0.89500000]\n",
      "    fold  3:  [0.90050000]\n",
      "    fold  4:  [0.90030000]\n",
      "    ----\n",
      "    MEAN:     [0.90032000] + [0.00294170]\n",
      "    FULL:     [0.90032000]\n",
      "\n",
      "model  2:     [SGDClassifier]\n",
      "    fold  0:  [0.89810000]\n",
      "    fold  1:  [0.89290000]\n",
      "    fold  2:  [0.89030000]\n",
      "    fold  3:  [0.89190000]\n",
      "    fold  4:  [0.89510000]\n",
      "    ----\n",
      "    MEAN:     [0.89366000] + [0.00271116]\n",
      "    FULL:     [0.89366000]\n",
      "\n"
     ]
    }
   ],
   "source": [
    "S_train, S_test = stacking(models,\n",
    "                          X_train_enc, y_train, X_test_enc,\n",
    "                           verbose=2, random_state=42, shuffle=True, regression=False,\n",
    "                          n_folds=5, metric=accuracy_score, mode='oof_pred_bag')"
   ]
  },
  {
   "cell_type": "code",
   "execution_count": 15,
   "metadata": {},
   "outputs": [],
   "source": [
    "import lightgbm"
   ]
  },
  {
   "cell_type": "code",
   "execution_count": 16,
   "metadata": {},
   "outputs": [
    {
     "data": {
      "text/plain": [
       "0.884"
      ]
     },
     "execution_count": 16,
     "metadata": {},
     "output_type": "execute_result"
    }
   ],
   "source": [
    "gbm = lightgbm.LGBMClassifier(random_state=42)\n",
    "gbm.fit(S_train, y_train)\n",
    "accuracy_score(y_test, gbm.predict(S_test))"
   ]
  }
 ],
 "metadata": {
  "kernelspec": {
   "display_name": "Python 3",
   "language": "python",
   "name": "python3"
  },
  "language_info": {
   "codemirror_mode": {
    "name": "ipython",
    "version": 3
   },
   "file_extension": ".py",
   "mimetype": "text/x-python",
   "name": "python",
   "nbconvert_exporter": "python",
   "pygments_lexer": "ipython3",
   "version": "3.6.8"
  }
 },
 "nbformat": 4,
 "nbformat_minor": 2
}
