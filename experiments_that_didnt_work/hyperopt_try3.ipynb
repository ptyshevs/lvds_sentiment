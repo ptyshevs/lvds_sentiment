{
 "cells": [
  {
   "cell_type": "code",
   "execution_count": 1,
   "metadata": {},
   "outputs": [],
   "source": [
    "import pandas as pd"
   ]
  },
  {
   "cell_type": "code",
   "execution_count": 2,
   "metadata": {},
   "outputs": [],
   "source": [
    "from sklearn.feature_extraction.text import CountVectorizer\n",
    "from sklearn.datasets import load_iris\n",
    "from sklearn.model_selection import cross_val_score, train_test_split\n",
    "from hyperopt import tpe\n",
    "import numpy as np"
   ]
  },
  {
   "cell_type": "code",
   "execution_count": 3,
   "metadata": {},
   "outputs": [],
   "source": [
    "df = pd.read_csv('clean_data.csv')"
   ]
  },
  {
   "cell_type": "code",
   "execution_count": 4,
   "metadata": {},
   "outputs": [],
   "source": [
    "pdf = df.reindex(np.random.permutation(df.index))"
   ]
  },
  {
   "cell_type": "code",
   "execution_count": 5,
   "metadata": {},
   "outputs": [],
   "source": [
    "X, y = pdf['clean_text'], pdf['class']"
   ]
  },
  {
   "cell_type": "code",
   "execution_count": 6,
   "metadata": {},
   "outputs": [],
   "source": [
    "X_train, X_test, y_train, y_test = train_test_split(X, y[:, np.newaxis], test_size=.33, random_state=42)"
   ]
  },
  {
   "cell_type": "code",
   "execution_count": 7,
   "metadata": {},
   "outputs": [],
   "source": [
    "vec = CountVectorizer(ngram_range=(1, 3), max_features=100)\n",
    "X_train_enc = vec.fit_transform(X_train)\n",
    "X_test_enc = vec.transform(X_test)\n",
    "X_enc = vec.fit_transform(X)"
   ]
  },
  {
   "cell_type": "code",
   "execution_count": 8,
   "metadata": {},
   "outputs": [],
   "source": [
    "from sklearn.linear_model import LogisticRegression, SGDClassifier\n",
    "from sklearn.model_selection import train_test_split\n",
    "from sklearn.metrics import accuracy_score"
   ]
  },
  {
   "cell_type": "code",
   "execution_count": 9,
   "metadata": {},
   "outputs": [],
   "source": [
    "import warnings\n",
    "warnings.filterwarnings('ignore')"
   ]
  },
  {
   "cell_type": "code",
   "execution_count": 10,
   "metadata": {},
   "outputs": [],
   "source": [
    "def loss(y_target, y_pred):\n",
    "    acc = accuracy_score(y_target, y_pred)\n",
    "    print(f\"this loss called with acc={acc}\")\n",
    "    return 1.0 - acc"
   ]
  },
  {
   "cell_type": "code",
   "execution_count": 11,
   "metadata": {},
   "outputs": [],
   "source": [
    "import xgboost"
   ]
  },
  {
   "cell_type": "code",
   "execution_count": 22,
   "metadata": {},
   "outputs": [
    {
     "name": "stdout",
     "output_type": "stream",
     "text": [
      "100%|██████████| 1/1 [00:00<00:00,  2.65it/s, best loss: 0.575]\n",
      "100%|██████████| 1/1 [00:00<00:00, 18.17it/s, best loss: 0.55]\n",
      "100%|██████████| 1/1 [00:01<00:00,  1.29s/it, best loss: 0.55]\n",
      "100%|██████████| 1/1 [00:00<00:00, 19.56it/s, best loss: 0.55]\n",
      "100%|██████████| 1/1 [00:00<00:00, 16.85it/s, best loss: 0.51]\n",
      "100%|██████████| 1/1 [00:00<00:00, 17.27it/s, best loss: 0.51]\n",
      "100%|██████████| 1/1 [00:00<00:00,  7.55it/s, best loss: 0.51]\n",
      "100%|██████████| 1/1 [00:00<00:00,  2.43it/s, best loss: 0.51]\n",
      "100%|██████████| 1/1 [00:00<00:00, 17.82it/s, best loss: 0.51]\n",
      "100%|██████████| 1/1 [00:00<00:00,  3.81it/s, best loss: 0.47250000000000003]\n",
      "100%|██████████| 1/1 [00:00<00:00, 18.69it/s, best loss: 0.47250000000000003]\n",
      "100%|██████████| 1/1 [00:04<00:00,  4.10s/it, best loss: 0.47250000000000003]\n",
      "100%|██████████| 1/1 [00:00<00:00, 17.97it/s, best loss: 0.47250000000000003]\n",
      "100%|██████████| 1/1 [00:00<00:00,  3.59it/s, best loss: 0.47250000000000003]\n",
      "100%|██████████| 1/1 [00:00<00:00, 16.76it/s, best loss: 0.47250000000000003]\n",
      "100%|██████████| 1/1 [00:07<00:00,  7.25s/it, best loss: 0.47250000000000003]\n",
      "100%|██████████| 1/1 [00:00<00:00, 20.81it/s, best loss: 0.47250000000000003]\n",
      "100%|██████████| 1/1 [00:00<00:00,  4.10it/s, best loss: 0.47250000000000003]\n",
      "100%|██████████| 1/1 [00:10<00:00, 10.03s/it, best loss: 0.47250000000000003]\n",
      "100%|██████████| 1/1 [00:10<00:00, 10.04s/it, best loss: 0.47250000000000003]\n",
      "100%|██████████| 1/1 [00:00<00:00,  3.66it/s, best loss: 0.47250000000000003]\n",
      "100%|██████████| 1/1 [00:00<00:00,  3.87it/s, best loss: 0.47250000000000003]\n",
      "100%|██████████| 1/1 [00:00<00:00,  3.59it/s, best loss: 0.47250000000000003]\n",
      "100%|██████████| 1/1 [00:00<00:00,  3.87it/s, best loss: 0.47250000000000003]\n",
      "100%|██████████| 1/1 [00:00<00:00,  3.80it/s, best loss: 0.47250000000000003]\n",
      "100%|██████████| 1/1 [00:00<00:00,  2.74it/s, best loss: 0.47250000000000003]\n",
      "100%|██████████| 1/1 [00:00<00:00, 15.48it/s, best loss: 0.47250000000000003]\n",
      "100%|██████████| 1/1 [00:00<00:00, 16.52it/s, best loss: 0.47250000000000003]\n",
      "100%|██████████| 1/1 [00:00<00:00,  2.82it/s, best loss: 0.47250000000000003]\n",
      "100%|██████████| 1/1 [00:00<00:00, 18.28it/s, best loss: 0.47250000000000003]\n",
      "100%|██████████| 1/1 [00:00<00:00, 17.46it/s, best loss: 0.47250000000000003]\n",
      "100%|██████████| 1/1 [00:00<00:00,  2.61it/s, best loss: 0.47250000000000003]\n",
      "100%|██████████| 1/1 [00:00<00:00,  2.71it/s, best loss: 0.47250000000000003]\n",
      "100%|██████████| 1/1 [00:00<00:00, 19.67it/s, best loss: 0.47250000000000003]\n",
      "100%|██████████| 1/1 [00:00<00:00,  3.61it/s, best loss: 0.47250000000000003]\n",
      "100%|██████████| 1/1 [00:00<00:00, 16.95it/s, best loss: 0.47250000000000003]\n",
      "100%|██████████| 1/1 [00:00<00:00, 18.42it/s, best loss: 0.47250000000000003]\n",
      "100%|██████████| 1/1 [00:00<00:00,  7.50it/s, best loss: 0.47250000000000003]\n",
      "100%|██████████| 1/1 [00:00<00:00,  9.12it/s, best loss: 0.47250000000000003]\n",
      "100%|██████████| 1/1 [00:10<00:00, 10.04s/it, best loss: 0.47250000000000003]\n",
      "100%|██████████| 1/1 [00:00<00:00, 20.45it/s, best loss: 0.47250000000000003]\n",
      "100%|██████████| 1/1 [00:00<00:00, 17.84it/s, best loss: 0.47250000000000003]\n",
      "100%|██████████| 1/1 [00:10<00:00, 10.04s/it, best loss: 0.47250000000000003]\n",
      "100%|██████████| 1/1 [00:00<00:00, 16.23it/s, best loss: 0.47250000000000003]\n",
      "100%|██████████| 1/1 [00:00<00:00,  4.20it/s, best loss: 0.47250000000000003]\n",
      "100%|██████████| 1/1 [00:00<00:00,  7.36it/s, best loss: 0.47250000000000003]\n",
      "100%|██████████| 1/1 [00:00<00:00, 18.28it/s, best loss: 0.47250000000000003]\n",
      "100%|██████████| 1/1 [00:00<00:00, 15.67it/s, best loss: 0.47250000000000003]\n",
      "100%|██████████| 1/1 [00:00<00:00, 17.99it/s, best loss: 0.47250000000000003]\n",
      "100%|██████████| 1/1 [00:00<00:00, 18.49it/s, best loss: 0.47250000000000003]\n",
      "100%|██████████| 1/1 [00:10<00:00, 10.05s/it, best loss: 0.47250000000000003]\n",
      "100%|██████████| 1/1 [00:10<00:00, 10.05s/it, best loss: 0.47250000000000003]\n",
      "100%|██████████| 1/1 [00:10<00:00, 10.04s/it, best loss: 0.47250000000000003]\n",
      "100%|██████████| 1/1 [00:01<00:00,  1.79s/it, best loss: 0.47250000000000003]\n",
      "100%|██████████| 1/1 [00:05<00:00,  5.68s/it, best loss: 0.47250000000000003]\n",
      "100%|██████████| 1/1 [00:08<00:00,  8.24s/it, best loss: 0.47250000000000003]\n",
      "100%|██████████| 1/1 [00:00<00:00, 17.18it/s, best loss: 0.47250000000000003]\n",
      "100%|██████████| 1/1 [00:10<00:00, 10.05s/it, best loss: 0.47250000000000003]\n",
      "100%|██████████| 1/1 [00:00<00:00, 15.05it/s, best loss: 0.47250000000000003]\n",
      "100%|██████████| 1/1 [00:00<00:00, 17.84it/s, best loss: 0.47250000000000003]\n",
      "100%|██████████| 1/1 [00:00<00:00, 17.01it/s, best loss: 0.47250000000000003]\n",
      "100%|██████████| 1/1 [00:10<00:00, 10.04s/it, best loss: 0.47250000000000003]\n",
      "100%|██████████| 1/1 [00:10<00:00, 10.04s/it, best loss: 0.47250000000000003]\n",
      "100%|██████████| 1/1 [00:10<00:00, 10.04s/it, best loss: 0.47250000000000003]\n",
      "100%|██████████| 1/1 [00:00<00:00,  8.18it/s, best loss: 0.47250000000000003]\n",
      "100%|██████████| 1/1 [00:00<00:00, 18.62it/s, best loss: 0.47250000000000003]\n",
      "100%|██████████| 1/1 [00:00<00:00, 18.35it/s, best loss: 0.47250000000000003]\n",
      "100%|██████████| 1/1 [00:00<00:00, 18.37it/s, best loss: 0.47250000000000003]\n",
      "100%|██████████| 1/1 [00:00<00:00, 17.33it/s, best loss: 0.47250000000000003]\n",
      "100%|██████████| 1/1 [00:00<00:00,  1.90it/s, best loss: 0.47250000000000003]\n",
      "100%|██████████| 1/1 [00:00<00:00, 14.16it/s, best loss: 0.47250000000000003]\n",
      "100%|██████████| 1/1 [00:00<00:00, 18.08it/s, best loss: 0.47250000000000003]\n",
      "100%|██████████| 1/1 [00:00<00:00, 17.75it/s, best loss: 0.47250000000000003]\n",
      "100%|██████████| 1/1 [00:00<00:00, 17.50it/s, best loss: 0.47250000000000003]\n",
      "100%|██████████| 1/1 [00:00<00:00,  3.58it/s, best loss: 0.47250000000000003]\n",
      "100%|██████████| 1/1 [00:05<00:00,  5.81s/it, best loss: 0.47250000000000003]\n",
      "100%|██████████| 1/1 [00:00<00:00, 19.14it/s, best loss: 0.47250000000000003]\n",
      "100%|██████████| 1/1 [00:00<00:00, 19.23it/s, best loss: 0.47250000000000003]\n",
      "100%|██████████| 1/1 [00:00<00:00, 17.40it/s, best loss: 0.47250000000000003]\n",
      "100%|██████████| 1/1 [00:00<00:00, 17.50it/s, best loss: 0.47250000000000003]\n",
      "100%|██████████| 1/1 [00:00<00:00,  5.17it/s, best loss: 0.47250000000000003]\n",
      "100%|██████████| 1/1 [00:00<00:00, 13.89it/s, best loss: 0.47250000000000003]\n",
      "100%|██████████| 1/1 [00:04<00:00,  4.31s/it, best loss: 0.47250000000000003]\n",
      "100%|██████████| 1/1 [00:00<00:00, 17.74it/s, best loss: 0.47250000000000003]\n",
      "100%|██████████| 1/1 [00:00<00:00, 14.20it/s, best loss: 0.47250000000000003]\n",
      "100%|██████████| 1/1 [00:00<00:00, 18.20it/s, best loss: 0.47250000000000003]\n",
      "100%|██████████| 1/1 [00:10<00:00, 10.05s/it, best loss: 0.47250000000000003]\n",
      "100%|██████████| 1/1 [00:00<00:00, 16.16it/s, best loss: 0.47250000000000003]\n",
      "100%|██████████| 1/1 [00:08<00:00,  8.22s/it, best loss: 0.47250000000000003]\n",
      "100%|██████████| 1/1 [00:10<00:00, 10.05s/it, best loss: 0.47250000000000003]\n",
      "100%|██████████| 1/1 [00:00<00:00, 16.99it/s, best loss: 0.47250000000000003]\n",
      "100%|██████████| 1/1 [00:01<00:00,  1.82s/it, best loss: 0.47250000000000003]\n",
      "100%|██████████| 1/1 [00:00<00:00, 18.66it/s, best loss: 0.47250000000000003]\n",
      "100%|██████████| 1/1 [00:00<00:00,  6.46it/s, best loss: 0.47250000000000003]\n",
      "100%|██████████| 1/1 [00:00<00:00,  4.78it/s, best loss: 0.47250000000000003]\n",
      "100%|██████████| 1/1 [00:00<00:00,  3.74it/s, best loss: 0.47250000000000003]\n",
      "100%|██████████| 1/1 [00:00<00:00, 18.59it/s, best loss: 0.47250000000000003]\n",
      "100%|██████████| 1/1 [00:00<00:00, 19.21it/s, best loss: 0.47250000000000003]\n",
      "100%|██████████| 1/1 [00:00<00:00, 16.75it/s, best loss: 0.47250000000000003]\n",
      "100%|██████████| 1/1 [00:00<00:00, 13.79it/s, best loss: 0.47250000000000003]\n"
     ]
    }
   ],
   "source": [
    "from hpsklearn import HyperoptEstimator, any_classifier, any_preprocessing, any_sparse_classifier, sgd, passive_aggressive, svc_linear, decision_tree, xgboost_classification, liblinear_svc\n",
    "import hyperopt\n",
    "from hyperopt import tpe\n",
    "from hyperopt import hp\n",
    "np.random.seed(13)\n",
    "#sgd('sgd'), svc_linear('svc'), \n",
    "estim = HyperoptEstimator(classifier=hp.choice('cls', [liblinear_svc('svc')]),\n",
    "                         preprocessing=[], max_evals=100, algo=tpe.suggest, trial_timeout=10)\n",
    "estim.fit(X_enc, y, cv_shuffle=True)"
   ]
  },
  {
   "cell_type": "code",
   "execution_count": 25,
   "metadata": {},
   "outputs": [
    {
     "data": {
      "text/plain": [
       "{'learner': LinearSVC(C=988.8915413729198, class_weight=None, dual=True, fit_intercept=True,\n",
       "           intercept_scaling=0.5255498355851986, loss='squared_hinge',\n",
       "           max_iter=1000, multi_class='ovr', penalty='l2', random_state=1,\n",
       "           tol=0.003219411190972894, verbose=False),\n",
       " 'preprocs': (),\n",
       " 'ex_preprocs': ()}"
      ]
     },
     "execution_count": 25,
     "metadata": {},
     "output_type": "execute_result"
    }
   ],
   "source": [
    "estim.best_model()"
   ]
  },
  {
   "cell_type": "code",
   "execution_count": 26,
   "metadata": {},
   "outputs": [
    {
     "data": {
      "text/plain": [
       "0.6415"
      ]
     },
     "execution_count": 26,
     "metadata": {},
     "output_type": "execute_result"
    }
   ],
   "source": [
    "cross_val_score(estim.best_model()['learner'], X_enc, y, cv=5).mean()"
   ]
  },
  {
   "cell_type": "code",
   "execution_count": 17,
   "metadata": {},
   "outputs": [
    {
     "data": {
      "text/plain": [
       "0.6695"
      ]
     },
     "execution_count": 17,
     "metadata": {},
     "output_type": "execute_result"
    }
   ],
   "source": [
    "cross_val_score(SGDClassifier(random_state=41), X_enc, y, cv=5).mean()"
   ]
  }
 ],
 "metadata": {
  "kernelspec": {
   "display_name": "Python 3",
   "language": "python",
   "name": "python3"
  },
  "language_info": {
   "codemirror_mode": {
    "name": "ipython",
    "version": 3
   },
   "file_extension": ".py",
   "mimetype": "text/x-python",
   "name": "python",
   "nbconvert_exporter": "python",
   "pygments_lexer": "ipython3",
   "version": "3.6.8"
  }
 },
 "nbformat": 4,
 "nbformat_minor": 2
}
