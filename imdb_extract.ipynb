{
 "cells": [
  {
   "cell_type": "code",
   "execution_count": 1,
   "metadata": {},
   "outputs": [],
   "source": [
    "import pandas as pd\n",
    "import numpy as np\n",
    "import os"
   ]
  },
  {
   "cell_type": "code",
   "execution_count": 2,
   "metadata": {},
   "outputs": [],
   "source": [
    "train_neg_corpus = []\n",
    "train_pos_corpus = []\n",
    "\n",
    "test_neg_corpus = []\n",
    "test_pos_corpus = []\n",
    "\n",
    "for filename in os.listdir('aclImdb/train/neg'):\n",
    "    with open('aclImdb/train/neg/' + filename) as f:\n",
    "        train_neg_corpus.append(f.read())\n",
    "\n",
    "for filename in os.listdir('aclImdb/train/pos'):\n",
    "    with open('aclImdb/train/pos/' + filename) as f:\n",
    "        train_pos_corpus.append(f.read())\n",
    "\n",
    "for filename in os.listdir('aclImdb/test/neg'):\n",
    "    with open('aclImdb/test/neg/' + filename) as f:\n",
    "        test_neg_corpus.append(f.read())\n",
    "\n",
    "for filename in os.listdir('aclImdb/test/pos'):\n",
    "    with open('aclImdb/test/pos/' + filename) as f:\n",
    "        test_pos_corpus.append(f.read())"
   ]
  },
  {
   "cell_type": "code",
   "execution_count": 3,
   "metadata": {},
   "outputs": [],
   "source": [
    "train_neg_labels = [0] * len(train_neg_corpus)\n",
    "train_pos_labels = [1] * len(train_pos_corpus)\n",
    "\n",
    "test_neg_labels = [0] * len(test_neg_corpus)\n",
    "test_pos_labels = [1] * len(test_pos_corpus)"
   ]
  },
  {
   "cell_type": "code",
   "execution_count": 4,
   "metadata": {},
   "outputs": [],
   "source": [
    "corpus = train_neg_corpus + train_pos_corpus + test_neg_corpus + test_pos_corpus\n",
    "labels = train_neg_labels + train_pos_labels + test_neg_labels + test_pos_labels"
   ]
  },
  {
   "cell_type": "code",
   "execution_count": 5,
   "metadata": {},
   "outputs": [],
   "source": [
    "df = pd.concat((pd.Series(corpus), pd.Series(labels)), axis=1)\n",
    "df.columns = ['text', 'class']"
   ]
  },
  {
   "cell_type": "code",
   "execution_count": 6,
   "metadata": {},
   "outputs": [],
   "source": [
    "df.to_csv(\"imdb.csv\", index=False)"
   ]
  }
 ],
 "metadata": {
  "kernelspec": {
   "display_name": "Python 3",
   "language": "python",
   "name": "python3"
  },
  "language_info": {
   "codemirror_mode": {
    "name": "ipython",
    "version": 3
   },
   "file_extension": ".py",
   "mimetype": "text/x-python",
   "name": "python",
   "nbconvert_exporter": "python",
   "pygments_lexer": "ipython3",
   "version": "3.6.8"
  }
 },
 "nbformat": 4,
 "nbformat_minor": 2
}
