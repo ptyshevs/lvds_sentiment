{
 "cells": [
  {
   "cell_type": "code",
   "execution_count": 2,
   "metadata": {},
   "outputs": [],
   "source": [
    "import numpy as np\n",
    "import pandas as pd"
   ]
  },
  {
   "cell_type": "code",
   "execution_count": 7,
   "metadata": {},
   "outputs": [],
   "source": [
    "df = pd.read_csv('clean_data.csv')\n",
    "df_imdb = pd.read_csv('clean_imdb.csv')"
   ]
  },
  {
   "cell_type": "code",
   "execution_count": 8,
   "metadata": {},
   "outputs": [],
   "source": [
    "import sklearn\n",
    "from sklearn.feature_extraction.text import CountVectorizer, TfidfVectorizer\n",
    "from sklearn.model_selection import cross_val_score, train_test_split\n",
    "from sklearn.svm import LinearSVC\n",
    "from sklearn.linear_model import LogisticRegression, SGDClassifier\n",
    "from sklearn.feature_selection import SelectKBest, chi2\n",
    "from sklearn.metrics import accuracy_score, f1_score\n",
    "from sklearn.pipeline import Pipeline"
   ]
  },
  {
   "cell_type": "code",
   "execution_count": 9,
   "metadata": {},
   "outputs": [],
   "source": [
    "np.random.seed(42)\n",
    "pdf = df.reindex(np.random.permutation(df.index))\n",
    "pdf_imdb = df_imdb.reindex(np.random.permutation(df_imdb.index))"
   ]
  },
  {
   "cell_type": "code",
   "execution_count": 10,
   "metadata": {},
   "outputs": [],
   "source": [
    "X, y = pdf_imdb['clean_text'], pdf_imdb['class']\n",
    "X_test, y_test = pdf['clean_text'], pdf['class']"
   ]
  },
  {
   "cell_type": "code",
   "execution_count": 11,
   "metadata": {},
   "outputs": [],
   "source": [
    "import warnings\n",
    "warnings.filterwarnings('ignore')"
   ]
  },
  {
   "cell_type": "code",
   "execution_count": 12,
   "metadata": {},
   "outputs": [],
   "source": [
    "vectorizers = [('tfidf', TfidfVectorizer), ('cnt_vec', CountVectorizer)]\n",
    "ngram_ranges = [(1, 1), (1, 2), (1, 3)]\n",
    "max_features = [None, 20000, 50000, 80000]\n",
    "dim_red = SelectKBest(score_func=chi2, k=20000)\n",
    "classifiers = [('svc', LinearSVC(random_state=42)),\n",
    "               ('lr', LogisticRegression(random_state=42)),\n",
    "               ('sgd', SGDClassifier(random_state=42))]"
   ]
  },
  {
   "cell_type": "code",
   "execution_count": 13,
   "metadata": {},
   "outputs": [
    {
     "name": "stdout",
     "output_type": "stream",
     "text": [
      "tfidf((1, 1), None), svc: 0.865\n",
      "tfidf((1, 1), None), lr: 0.869\n",
      "tfidf((1, 1), None), sgd: 0.8645\n",
      "top 5 scores: [0.865, 0.869, 0.8645, 0, 0]\n",
      "tfidf((1, 1), 20000), svc: 0.863\n",
      "tfidf((1, 1), 20000), lr: 0.8645\n",
      "tfidf((1, 1), 20000), sgd: 0.8675\n",
      "top 5 scores: [0.865, 0.869, 0.8645, 0.8675, 0.8645]\n",
      "tfidf((1, 1), 50000), svc: 0.8685\n",
      "tfidf((1, 1), 50000), lr: 0.8705\n",
      "tfidf((1, 1), 50000), sgd: 0.863\n",
      "top 5 scores: [0.865, 0.869, 0.8685, 0.8675, 0.8705]\n",
      "tfidf((1, 1), 80000), svc: 0.867\n",
      "tfidf((1, 1), 80000), lr: 0.8695\n",
      "tfidf((1, 1), 80000), sgd: 0.863\n",
      "top 5 scores: [0.8695, 0.869, 0.8685, 0.8675, 0.8705]\n",
      "tfidf((1, 2), None), svc: 0.8825\n",
      "tfidf((1, 2), None), lr: 0.8605\n",
      "tfidf((1, 2), None), sgd: 0.8465\n",
      "top 5 scores: [0.8695, 0.869, 0.8685, 0.8825, 0.8705]\n",
      "tfidf((1, 2), 20000), svc: 0.8655\n",
      "tfidf((1, 2), 20000), lr: 0.8805\n",
      "tfidf((1, 2), 20000), sgd: 0.8795\n",
      "top 5 scores: [0.8695, 0.8795, 0.8805, 0.8825, 0.8705]\n",
      "tfidf((1, 2), 50000), svc: 0.8805\n",
      "tfidf((1, 2), 50000), lr: 0.8805\n",
      "tfidf((1, 2), 50000), sgd: 0.874\n",
      "top 5 scores: [0.8805, 0.8795, 0.8805, 0.8825, 0.8805]\n",
      "tfidf((1, 2), 80000), svc: 0.8795\n",
      "tfidf((1, 2), 80000), lr: 0.8745\n",
      "tfidf((1, 2), 80000), sgd: 0.8685\n",
      "top 5 scores: [0.8805, 0.8795, 0.8805, 0.8825, 0.8805]\n",
      "tfidf((1, 3), None), svc: 0.885\n",
      "tfidf((1, 3), None), lr: 0.851\n",
      "tfidf((1, 3), None), sgd: 0.8395\n",
      "top 5 scores: [0.8805, 0.885, 0.8805, 0.8825, 0.8805]\n",
      "tfidf((1, 3), 20000), svc: 0.8655\n",
      "tfidf((1, 3), 20000), lr: 0.8815\n",
      "tfidf((1, 3), 20000), sgd: 0.8775\n",
      "top 5 scores: [0.8815, 0.885, 0.8805, 0.8825, 0.8805]\n",
      "tfidf((1, 3), 50000), svc: 0.8825\n",
      "tfidf((1, 3), 50000), lr: 0.8805\n",
      "tfidf((1, 3), 50000), sgd: 0.876\n",
      "top 5 scores: [0.8815, 0.885, 0.8825, 0.8825, 0.8805]\n",
      "tfidf((1, 3), 80000), svc: 0.8825\n",
      "tfidf((1, 3), 80000), lr: 0.874\n",
      "tfidf((1, 3), 80000), sgd: 0.8715\n",
      "top 5 scores: [0.8815, 0.885, 0.8825, 0.8825, 0.8825]\n",
      "cnt_vec((1, 1), None), svc: 0.812\n",
      "cnt_vec((1, 1), None), lr: 0.8525\n",
      "cnt_vec((1, 1), None), sgd: 0.855\n",
      "top 5 scores: [0.8815, 0.885, 0.8825, 0.8825, 0.8825]\n",
      "cnt_vec((1, 1), 20000), svc: 0.819\n",
      "cnt_vec((1, 1), 20000), lr: 0.8475\n",
      "cnt_vec((1, 1), 20000), sgd: 0.8435\n",
      "top 5 scores: [0.8815, 0.885, 0.8825, 0.8825, 0.8825]\n",
      "cnt_vec((1, 1), 50000), svc: 0.8075\n",
      "cnt_vec((1, 1), 50000), lr: 0.852\n",
      "cnt_vec((1, 1), 50000), sgd: 0.8505\n",
      "top 5 scores: [0.8815, 0.885, 0.8825, 0.8825, 0.8825]\n",
      "cnt_vec((1, 1), 80000), svc: 0.812\n",
      "cnt_vec((1, 1), 80000), lr: 0.8525\n",
      "cnt_vec((1, 1), 80000), sgd: 0.855\n",
      "top 5 scores: [0.8815, 0.885, 0.8825, 0.8825, 0.8825]\n",
      "cnt_vec((1, 2), None), svc: 0.849\n",
      "cnt_vec((1, 2), None), lr: 0.8715\n",
      "cnt_vec((1, 2), None), sgd: 0.868\n",
      "top 5 scores: [0.8815, 0.885, 0.8825, 0.8825, 0.8825]\n",
      "cnt_vec((1, 2), 20000), svc: 0.823\n",
      "cnt_vec((1, 2), 20000), lr: 0.8505\n",
      "cnt_vec((1, 2), 20000), sgd: 0.8435\n",
      "top 5 scores: [0.8815, 0.885, 0.8825, 0.8825, 0.8825]\n",
      "cnt_vec((1, 2), 50000), svc: 0.8435\n",
      "cnt_vec((1, 2), 50000), lr: 0.868\n",
      "cnt_vec((1, 2), 50000), sgd: 0.8705\n",
      "top 5 scores: [0.8815, 0.885, 0.8825, 0.8825, 0.8825]\n",
      "cnt_vec((1, 2), 80000), svc: 0.842\n",
      "cnt_vec((1, 2), 80000), lr: 0.8715\n",
      "cnt_vec((1, 2), 80000), sgd: 0.869\n",
      "top 5 scores: [0.8815, 0.885, 0.8825, 0.8825, 0.8825]\n",
      "cnt_vec((1, 3), None), svc: 0.839\n",
      "cnt_vec((1, 3), None), lr: 0.8685\n",
      "cnt_vec((1, 3), None), sgd: 0.866\n",
      "top 5 scores: [0.8815, 0.885, 0.8825, 0.8825, 0.8825]\n",
      "cnt_vec((1, 3), 20000), svc: 0.824\n",
      "cnt_vec((1, 3), 20000), lr: 0.849\n",
      "cnt_vec((1, 3), 20000), sgd: 0.8505\n",
      "top 5 scores: [0.8815, 0.885, 0.8825, 0.8825, 0.8825]\n",
      "cnt_vec((1, 3), 50000), svc: 0.841\n",
      "cnt_vec((1, 3), 50000), lr: 0.871\n",
      "cnt_vec((1, 3), 50000), sgd: 0.866\n",
      "top 5 scores: [0.8815, 0.885, 0.8825, 0.8825, 0.8825]\n",
      "cnt_vec((1, 3), 80000), svc: 0.839\n",
      "cnt_vec((1, 3), 80000), lr: 0.8695\n",
      "cnt_vec((1, 3), 80000), sgd: 0.864\n",
      "top 5 scores: [0.8815, 0.885, 0.8825, 0.8825, 0.8825]\n"
     ]
    }
   ],
   "source": [
    "k = 5\n",
    "top_k_models = [None] * k\n",
    "top_k_scores = [0] * k\n",
    "\n",
    "for vect_name, vect in vectorizers:\n",
    "    for ngram in ngram_ranges:\n",
    "        for max_feat in max_features:\n",
    "            for clf_name, clf in classifiers:\n",
    "                np.random.seed(42)\n",
    "                pipe = Pipeline([('vectorizer', vect(ngram_range=ngram, max_features=max_feat)),\n",
    "                                 ('dim_red', dim_red),\n",
    "                                 ('clf', clf)])\n",
    "                pipe.fit(X, y)\n",
    "                cand_score = accuracy_score(y_test, pipe.predict(X_test)).mean()\n",
    "                worst_score = 1\n",
    "                worst_score_idx = 0\n",
    "                for i, score in enumerate(top_k_scores):\n",
    "                    if score < worst_score:\n",
    "                        worst_score = score\n",
    "                        worst_score_idx = i\n",
    "                if cand_score > worst_score:\n",
    "                    top_k_scores[worst_score_idx] = cand_score\n",
    "                    top_k_models[worst_score_idx] = pipe\n",
    "                print(f\"{vect_name}({ngram}, {max_feat}), {clf_name}: {cand_score}\")\n",
    "            print(f\"top {k} scores: {top_k_scores}\")"
   ]
  },
  {
   "cell_type": "code",
   "execution_count": 38,
   "metadata": {},
   "outputs": [
    {
     "data": {
      "text/plain": [
       "[0.8815, 0.885, 0.8825, 0.8825, 0.8825]"
      ]
     },
     "execution_count": 38,
     "metadata": {},
     "output_type": "execute_result"
    }
   ],
   "source": [
    "top_k_scores"
   ]
  },
  {
   "cell_type": "code",
   "execution_count": 39,
   "metadata": {},
   "outputs": [
    {
     "name": "stdout",
     "output_type": "stream",
     "text": [
      "Best single pre-trained model score: 0.885\n"
     ]
    }
   ],
   "source": [
    "best_model = top_k_models[1]\n",
    "print(\"Best single pre-trained model score:\", top_k_scores[1])"
   ]
  },
  {
   "cell_type": "code",
   "execution_count": 37,
   "metadata": {},
   "outputs": [],
   "source": [
    "# We need to write our own k-fold validation to enhance each training dataset with common extraneous dataset\n",
    "# in order to get final evaluation\n",
    "import tqdm\n",
    "from sklearn.model_selection import KFold\n",
    "kfold = KFold(n_splits=5, shuffle=True, random_state=42)"
   ]
  },
  {
   "cell_type": "code",
   "execution_count": 42,
   "metadata": {},
   "outputs": [
    {
     "name": "stderr",
     "output_type": "stream",
     "text": [
      "\n",
      "0it [00:00, ?it/s]\u001b[A"
     ]
    },
    {
     "name": "stdout",
     "output_type": "stream",
     "text": [
      "Start fitting model\n",
      "End fitting model\n"
     ]
    },
    {
     "name": "stderr",
     "output_type": "stream",
     "text": [
      "\n",
      "1it [05:23, 323.72s/it]\u001b[A"
     ]
    },
    {
     "name": "stdout",
     "output_type": "stream",
     "text": [
      "Start fitting model\n",
      "End fitting model\n"
     ]
    },
    {
     "name": "stderr",
     "output_type": "stream",
     "text": [
      "\n",
      "2it [10:44, 322.76s/it]\u001b[A"
     ]
    },
    {
     "name": "stdout",
     "output_type": "stream",
     "text": [
      "Start fitting model\n",
      "End fitting model\n"
     ]
    },
    {
     "name": "stderr",
     "output_type": "stream",
     "text": [
      "\n",
      "3it [16:01, 321.09s/it]\u001b[A"
     ]
    },
    {
     "name": "stdout",
     "output_type": "stream",
     "text": [
      "Start fitting model\n",
      "End fitting model\n"
     ]
    },
    {
     "name": "stderr",
     "output_type": "stream",
     "text": [
      "\n",
      "4it [21:22, 321.17s/it]\u001b[A"
     ]
    },
    {
     "name": "stdout",
     "output_type": "stream",
     "text": [
      "Start fitting model\n",
      "End fitting model\n"
     ]
    },
    {
     "name": "stderr",
     "output_type": "stream",
     "text": [
      "\n",
      "5it [28:06, 346.07s/it]\u001b[A"
     ]
    },
    {
     "name": "stdout",
     "output_type": "stream",
     "text": [
      "[0.9, 0.8975, 0.8825, 0.905, 0.8975] 0.8965\n"
     ]
    }
   ],
   "source": [
    "scores = []\n",
    "for train_dx, test_dx in tqdm.tqdm(kfold.split(X_test, y_test)):\n",
    "    enh_train_X = np.hstack([X, X_test[train_dx]])\n",
    "    enh_train_y = np.hstack([y, y_test[train_dx]])\n",
    "    \n",
    "    test_X = X_test[test_dx]\n",
    "    test_y = y_test[test_dx]\n",
    "    print(\"Start fitting model\")\n",
    "    best_model.fit(enh_train_X, enh_train_y)\n",
    "    print(\"End fitting model\")\n",
    "    y_pred = best_model.predict(test_X)\n",
    "    scores.append(accuracy_score(test_y, y_pred))\n",
    "\n",
    "cv_score = np.mean(scores)\n",
    "print(scores, \"Mean score=\", cv_score)"
   ]
  },
  {
   "cell_type": "code",
   "execution_count": 45,
   "metadata": {},
   "outputs": [
    {
     "name": "stdout",
     "output_type": "stream",
     "text": [
      "Best single model cross-validation score: 0.8965\n"
     ]
    }
   ],
   "source": [
    "print(\"Best single model cross-validation score:\", cv_score)"
   ]
  },
  {
   "cell_type": "code",
   "execution_count": 48,
   "metadata": {},
   "outputs": [],
   "source": [
    "from mlxtend.classifier import StackingClassifier\n",
    "stack = StackingClassifier(top_k_models, meta_classifier=LogisticRegression(random_state=42))"
   ]
  },
  {
   "cell_type": "code",
   "execution_count": null,
   "metadata": {},
   "outputs": [
    {
     "name": "stderr",
     "output_type": "stream",
     "text": [
      "\n",
      "0it [00:00, ?it/s]\u001b[A\n",
      "1it [29:12, 1752.15s/it]\u001b[A"
     ]
    },
    {
     "name": "stdout",
     "output_type": "stream",
     "text": [
      "Fold 0 acc=0.9025\n"
     ]
    },
    {
     "name": "stderr",
     "output_type": "stream",
     "text": [
      "\n",
      "2it [1:00:13, 1784.86s/it]\u001b[A"
     ]
    },
    {
     "name": "stdout",
     "output_type": "stream",
     "text": [
      "Fold 1 acc=0.895\n"
     ]
    }
   ],
   "source": [
    "scores = []\n",
    "for i, (train_dx, test_dx) in tqdm.tqdm(enumerate(kfold.split(X_test, y_test))):\n",
    "    enh_train_X = np.hstack([X, X_test[train_dx]])\n",
    "    enh_train_y = np.hstack([y, y_test[train_dx]])\n",
    "    \n",
    "    test_X = X_test[test_dx]\n",
    "    test_y = y_test[test_dx]\n",
    "    stack.fit(enh_train_X, enh_train_y)\n",
    "    y_pred = stack.predict(test_X)\n",
    "    acc = accuracy_score(test_y, y_pred)\n",
    "    print(f\"Fold {i} acc={acc}\")\n",
    "    scores.append(acc)\n",
    "\n",
    "cv_score = np.mean(scores)\n",
    "print(scores, \"Mean score=\", cv_score)"
   ]
  }
 ],
 "metadata": {
  "kernelspec": {
   "display_name": "Python 3",
   "language": "python",
   "name": "python3"
  },
  "language_info": {
   "codemirror_mode": {
    "name": "ipython",
    "version": 3
   },
   "file_extension": ".py",
   "mimetype": "text/x-python",
   "name": "python",
   "nbconvert_exporter": "python",
   "pygments_lexer": "ipython3",
   "version": "3.6.8"
  }
 },
 "nbformat": 4,
 "nbformat_minor": 2
}
