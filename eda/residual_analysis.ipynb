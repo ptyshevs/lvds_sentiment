{
 "cells": [
  {
   "cell_type": "markdown",
   "metadata": {},
   "source": [
    "# Idea:\n",
    "\n",
    "Take best current model, analyze misclassifications"
   ]
  },
  {
   "cell_type": "code",
   "execution_count": 1,
   "metadata": {},
   "outputs": [],
   "source": [
    "import numpy as np\n",
    "import pandas as pd"
   ]
  },
  {
   "cell_type": "code",
   "execution_count": 15,
   "metadata": {},
   "outputs": [],
   "source": [
    "df = pd.read_csv('enh_data.csv')"
   ]
  },
  {
   "cell_type": "code",
   "execution_count": 58,
   "metadata": {},
   "outputs": [],
   "source": [
    "from sklearn.model_selection import train_test_split\n",
    "from sklearn.metrics import accuracy_score, classification_report\n",
    "from sklearn.linear_model import LogisticRegression\n",
    "from sklearn.svm import LinearSVC\n",
    "from sklearn.feature_extraction.text import TfidfVectorizer\n",
    "from textblob import TextBlob"
   ]
  },
  {
   "cell_type": "code",
   "execution_count": 18,
   "metadata": {},
   "outputs": [],
   "source": [
    "np.random.seed(42)\n",
    "pdf = df.reindex(np.random.permutation(df.index))"
   ]
  },
  {
   "cell_type": "code",
   "execution_count": 19,
   "metadata": {},
   "outputs": [],
   "source": [
    "X_train, X_test, y_train, y_test = train_test_split(pdf['clean_text'], pdf['class'], test_size=.33, random_state=42)"
   ]
  },
  {
   "cell_type": "code",
   "execution_count": 20,
   "metadata": {},
   "outputs": [],
   "source": [
    "vec = TfidfVectorizer(max_features=50000, ngram_range=(1, 4))\n",
    "X_train_enc = vec.fit_transform(X_train)\n",
    "X_test_enc = vec.transform(X_test)"
   ]
  },
  {
   "cell_type": "code",
   "execution_count": 21,
   "metadata": {},
   "outputs": [
    {
     "name": "stdout",
     "output_type": "stream",
     "text": [
      "0.8272727272727273\n"
     ]
    }
   ],
   "source": [
    "lr = LogisticRegression(random_state=42, solver='lbfgs')\n",
    "lr.fit(X_train_enc, y_train)\n",
    "print(accuracy_score(y_test, lr.predict(X_test_enc)))"
   ]
  },
  {
   "cell_type": "code",
   "execution_count": 22,
   "metadata": {},
   "outputs": [
    {
     "name": "stdout",
     "output_type": "stream",
     "text": [
      "0.8621212121212121\n"
     ]
    }
   ],
   "source": [
    "svm = LinearSVC(random_state=42)\n",
    "svm.fit(X_train_enc, y_train)\n",
    "print(accuracy_score(y_test, svm.predict(X_test_enc)))"
   ]
  },
  {
   "cell_type": "code",
   "execution_count": 23,
   "metadata": {},
   "outputs": [
    {
     "data": {
      "text/html": [
       "<div>\n",
       "<style scoped>\n",
       "    .dataframe tbody tr th:only-of-type {\n",
       "        vertical-align: middle;\n",
       "    }\n",
       "\n",
       "    .dataframe tbody tr th {\n",
       "        vertical-align: top;\n",
       "    }\n",
       "\n",
       "    .dataframe thead th {\n",
       "        text-align: right;\n",
       "    }\n",
       "</style>\n",
       "<table border=\"1\" class=\"dataframe\">\n",
       "  <thead>\n",
       "    <tr style=\"text-align: right;\">\n",
       "      <th></th>\n",
       "      <th>text</th>\n",
       "      <th>clean_text</th>\n",
       "      <th>clean_text_lemma</th>\n",
       "      <th>clean_text_neg</th>\n",
       "      <th>text_lem_cor</th>\n",
       "      <th>sentiment</th>\n",
       "      <th>subjectivity</th>\n",
       "      <th>class</th>\n",
       "    </tr>\n",
       "  </thead>\n",
       "  <tbody>\n",
       "    <tr>\n",
       "      <th>0</th>\n",
       "      <td>plot : two teen couples go to a church party ,...</td>\n",
       "      <td>plot two teen couples go church party drink dr...</td>\n",
       "      <td>plot two teen couple go church party drink dri...</td>\n",
       "      <td>plot two teen couples go church party drink dr...</td>\n",
       "      <td>plot teen couple go church party drink drive g...</td>\n",
       "      <td>-0.011356</td>\n",
       "      <td>0.500699</td>\n",
       "      <td>0</td>\n",
       "    </tr>\n",
       "  </tbody>\n",
       "</table>\n",
       "</div>"
      ],
      "text/plain": [
       "                                                text  \\\n",
       "0  plot : two teen couples go to a church party ,...   \n",
       "\n",
       "                                          clean_text  \\\n",
       "0  plot two teen couples go church party drink dr...   \n",
       "\n",
       "                                    clean_text_lemma  \\\n",
       "0  plot two teen couple go church party drink dri...   \n",
       "\n",
       "                                      clean_text_neg  \\\n",
       "0  plot two teen couples go church party drink dr...   \n",
       "\n",
       "                                        text_lem_cor  sentiment  subjectivity  \\\n",
       "0  plot teen couple go church party drink drive g...  -0.011356      0.500699   \n",
       "\n",
       "   class  \n",
       "0      0  "
      ]
     },
     "execution_count": 23,
     "metadata": {},
     "output_type": "execute_result"
    }
   ],
   "source": [
    "df.head(1)"
   ]
  },
  {
   "cell_type": "code",
   "execution_count": 24,
   "metadata": {},
   "outputs": [],
   "source": [
    "X_train, X_test, y_train, y_test = train_test_split(pdf['text_lem_cor'], pdf['class'], test_size=.33, random_state=42)"
   ]
  },
  {
   "cell_type": "code",
   "execution_count": 25,
   "metadata": {},
   "outputs": [],
   "source": [
    "vec = TfidfVectorizer(max_features=50000, ngram_range=(1, 4))\n",
    "X_train_enc = vec.fit_transform(X_train)\n",
    "X_test_enc = vec.transform(X_test)"
   ]
  },
  {
   "cell_type": "code",
   "execution_count": 26,
   "metadata": {},
   "outputs": [
    {
     "name": "stdout",
     "output_type": "stream",
     "text": [
      "0.8227272727272728\n"
     ]
    }
   ],
   "source": [
    "lr = LogisticRegression(random_state=42, solver='lbfgs')\n",
    "lr.fit(X_train_enc, y_train)\n",
    "print(accuracy_score(y_test, lr.predict(X_test_enc)))"
   ]
  },
  {
   "cell_type": "code",
   "execution_count": 27,
   "metadata": {},
   "outputs": [
    {
     "name": "stdout",
     "output_type": "stream",
     "text": [
      "0.8469696969696969\n"
     ]
    }
   ],
   "source": [
    "svm = LinearSVC(random_state=42)\n",
    "svm.fit(X_train_enc, y_train)\n",
    "print(accuracy_score(y_test, svm.predict(X_test_enc)))"
   ]
  },
  {
   "cell_type": "code",
   "execution_count": 28,
   "metadata": {},
   "outputs": [],
   "source": [
    "misclassified = np.where(y_test != svm.predict(X_test_enc))"
   ]
  },
  {
   "cell_type": "code",
   "execution_count": 59,
   "metadata": {},
   "outputs": [
    {
     "name": "stdout",
     "output_type": "stream",
     "text": [
      "True label 0 | Pred label [1]\n",
      "various film see seattle film festival true men raft u director orson welles recently uncover fourth\n",
      "Sentiment= Sentiment(polarity=0.07661624551159435, subjectivity=0.46390566797543564)\n",
      "True label 1 | Pred label [0]\n",
      "lake placid definately typical creature attack people movie maybe enjoyable clever actually come com\n",
      "Sentiment= Sentiment(polarity=0.11121455075536711, subjectivity=0.6121841593780368)\n",
      "True label 1 | Pred label [0]\n",
      "boom introduction music finish camera sweep red mountain see figure look barren red landscape kiss w\n",
      "Sentiment= Sentiment(polarity=0.09758771929824561, subjectivity=0.5733474310776943)\n",
      "True label 0 | Pred label [1]\n",
      "giant begin monologue funny distinctive princess medieval fairy tale feel pleasantly surprise sharp \n",
      "Sentiment= Sentiment(polarity=0.09841327561327565, subjectivity=0.6619111592111593)\n",
      "True label 0 | Pred label [1]\n",
      "walt disney studio finally meet match lush animation twentieth century fox anastasia judge late effo\n",
      "Sentiment= Sentiment(polarity=0.09111111111111111, subjectivity=0.4377777777777778)\n"
     ]
    }
   ],
   "source": [
    "for id in misclassified[0][:5]:\n",
    "    x, y = X_test.iloc[id], y_test.iloc[id]\n",
    "    print(f\"True label {y} | Pred label {svm.predict(X_test_enc[id])}\")\n",
    "    print(x[:100])\n",
    "    xblob = TextBlob(x)\n",
    "    print(\"Sentiment=\", xblob.sentiment)"
   ]
  }
 ],
 "metadata": {
  "kernelspec": {
   "display_name": "Python 3",
   "language": "python",
   "name": "python3"
  },
  "language_info": {
   "codemirror_mode": {
    "name": "ipython",
    "version": 3
   },
   "file_extension": ".py",
   "mimetype": "text/x-python",
   "name": "python",
   "nbconvert_exporter": "python",
   "pygments_lexer": "ipython3",
   "version": "3.6.8"
  }
 },
 "nbformat": 4,
 "nbformat_minor": 2
}
