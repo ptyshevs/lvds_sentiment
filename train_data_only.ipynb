{
 "cells": [
  {
   "cell_type": "code",
   "execution_count": 1,
   "metadata": {},
   "outputs": [],
   "source": [
    "import numpy as np\n",
    "import pandas as pd"
   ]
  },
  {
   "cell_type": "code",
   "execution_count": 2,
   "metadata": {},
   "outputs": [],
   "source": [
    "df = pd.read_csv('clean_data.csv')"
   ]
  },
  {
   "cell_type": "code",
   "execution_count": 16,
   "metadata": {},
   "outputs": [],
   "source": [
    "import sklearn\n",
    "from sklearn.feature_extraction.text import CountVectorizer, TfidfVectorizer\n",
    "from sklearn.model_selection import cross_val_score, train_test_split\n",
    "from sklearn.svm import LinearSVC\n",
    "from sklearn.linear_model import LogisticRegression, SGDClassifier\n",
    "from sklearn.feature_selection import SelectKBest, chi2\n",
    "# from sklearn.decomposition import TruncatedSVD, NMF\n",
    "from sklearn.pipeline import Pipeline"
   ]
  },
  {
   "cell_type": "code",
   "execution_count": 5,
   "metadata": {},
   "outputs": [],
   "source": [
    "np.random.seed(42)\n",
    "df_permuted = df.reindex(np.random.permutation(df.index))"
   ]
  },
  {
   "cell_type": "code",
   "execution_count": 6,
   "metadata": {},
   "outputs": [],
   "source": [
    "X, y = df_permuted['clean_text'], df_permuted['class']"
   ]
  },
  {
   "cell_type": "code",
   "execution_count": 11,
   "metadata": {},
   "outputs": [],
   "source": [
    "import warnings\n",
    "warnings.filterwarnings('ignore')"
   ]
  },
  {
   "cell_type": "code",
   "execution_count": 50,
   "metadata": {},
   "outputs": [],
   "source": [
    "vectorizers = [('tfidf', TfidfVectorizer), ('cnt_vec', CountVectorizer)]\n",
    "ngram_ranges = [(1, 1), (1, 2), (1, 3)]\n",
    "max_features = [None, 20000, 50000, 80000]\n",
    "dim_red = SelectKBest(score_func=chi2, k=20000)\n",
    "classifiers = [('svc', LinearSVC(random_state=42)),\n",
    "               ('lr', LogisticRegression(random_state=42)),\n",
    "               ('sgd', SGDClassifier(random_state=42))]"
   ]
  },
  {
   "cell_type": "code",
   "execution_count": 52,
   "metadata": {},
   "outputs": [
    {
     "name": "stdout",
     "output_type": "stream",
     "text": [
      "tfidf((1, 1), None), svc: 0.858\n",
      "tfidf((1, 1), None), lr: 0.8344999999999999\n",
      "tfidf((1, 1), None), sgd: 0.8525\n",
      "top 5 scores: [0.858, 0.8344999999999999, 0.8525, 0, 0]\n",
      "tfidf((1, 1), 20000), svc: 0.861\n",
      "tfidf((1, 1), 20000), lr: 0.8385\n",
      "tfidf((1, 1), 20000), sgd: 0.8564999999999999\n",
      "top 5 scores: [0.858, 0.8564999999999999, 0.8525, 0.861, 0.8385]\n",
      "tfidf((1, 1), 50000), svc: 0.858\n",
      "tfidf((1, 1), 50000), lr: 0.8344999999999999\n",
      "tfidf((1, 1), 50000), sgd: 0.8525\n",
      "top 5 scores: [0.858, 0.8564999999999999, 0.8525, 0.861, 0.858]\n",
      "tfidf((1, 1), 80000), svc: 0.858\n",
      "tfidf((1, 1), 80000), lr: 0.8344999999999999\n",
      "tfidf((1, 1), 80000), sgd: 0.8525\n",
      "top 5 scores: [0.858, 0.8564999999999999, 0.858, 0.861, 0.858]\n",
      "tfidf((1, 2), None), svc: 0.852\n",
      "tfidf((1, 2), None), lr: 0.829\n",
      "tfidf((1, 2), None), sgd: 0.8600000000000001\n",
      "top 5 scores: [0.858, 0.8600000000000001, 0.858, 0.861, 0.858]\n",
      "tfidf((1, 2), 20000), svc: 0.866\n",
      "tfidf((1, 2), 20000), lr: 0.8404999999999999\n",
      "tfidf((1, 2), 20000), sgd: 0.8564999999999999\n",
      "top 5 scores: [0.866, 0.8600000000000001, 0.858, 0.861, 0.858]\n",
      "tfidf((1, 2), 50000), svc: 0.8574999999999999\n",
      "tfidf((1, 2), 50000), lr: 0.8324999999999999\n",
      "tfidf((1, 2), 50000), sgd: 0.8585\n",
      "top 5 scores: [0.866, 0.8600000000000001, 0.8585, 0.861, 0.858]\n",
      "tfidf((1, 2), 80000), svc: 0.8539999999999999\n",
      "tfidf((1, 2), 80000), lr: 0.8314999999999999\n",
      "tfidf((1, 2), 80000), sgd: 0.8605\n",
      "top 5 scores: [0.866, 0.8600000000000001, 0.8585, 0.861, 0.8605]\n",
      "tfidf((1, 3), None), svc: 0.845\n",
      "tfidf((1, 3), None), lr: 0.82\n",
      "tfidf((1, 3), None), sgd: 0.851\n",
      "top 5 scores: [0.866, 0.8600000000000001, 0.8585, 0.861, 0.8605]\n",
      "tfidf((1, 3), 20000), svc: 0.8640000000000001\n",
      "tfidf((1, 3), 20000), lr: 0.841\n",
      "tfidf((1, 3), 20000), sgd: 0.8554999999999999\n",
      "top 5 scores: [0.866, 0.8600000000000001, 0.8640000000000001, 0.861, 0.8605]\n",
      "tfidf((1, 3), 50000), svc: 0.8584999999999999\n",
      "tfidf((1, 3), 50000), lr: 0.8335000000000001\n",
      "tfidf((1, 3), 50000), sgd: 0.8565000000000002\n",
      "top 5 scores: [0.866, 0.8600000000000001, 0.8640000000000001, 0.861, 0.8605]\n",
      "tfidf((1, 3), 80000), svc: 0.8565000000000002\n",
      "tfidf((1, 3), 80000), lr: 0.8295\n",
      "tfidf((1, 3), 80000), sgd: 0.8545\n",
      "top 5 scores: [0.866, 0.8600000000000001, 0.8640000000000001, 0.861, 0.8605]\n",
      "cnt_vec((1, 1), None), svc: 0.8345\n",
      "cnt_vec((1, 1), None), lr: 0.849\n",
      "cnt_vec((1, 1), None), sgd: 0.833\n",
      "top 5 scores: [0.866, 0.8600000000000001, 0.8640000000000001, 0.861, 0.8605]\n",
      "cnt_vec((1, 1), 20000), svc: 0.8390000000000001\n",
      "cnt_vec((1, 1), 20000), lr: 0.8510000000000002\n",
      "cnt_vec((1, 1), 20000), sgd: 0.8310000000000001\n",
      "top 5 scores: [0.866, 0.8600000000000001, 0.8640000000000001, 0.861, 0.8605]\n",
      "cnt_vec((1, 1), 50000), svc: 0.8345\n",
      "cnt_vec((1, 1), 50000), lr: 0.849\n",
      "cnt_vec((1, 1), 50000), sgd: 0.833\n",
      "top 5 scores: [0.866, 0.8600000000000001, 0.8640000000000001, 0.861, 0.8605]\n",
      "cnt_vec((1, 1), 80000), svc: 0.8345\n",
      "cnt_vec((1, 1), 80000), lr: 0.849\n",
      "cnt_vec((1, 1), 80000), sgd: 0.833\n",
      "top 5 scores: [0.866, 0.8600000000000001, 0.8640000000000001, 0.861, 0.8605]\n",
      "cnt_vec((1, 2), None), svc: 0.8305\n",
      "cnt_vec((1, 2), None), lr: 0.8465\n",
      "cnt_vec((1, 2), None), sgd: 0.8379999999999999\n",
      "top 5 scores: [0.866, 0.8600000000000001, 0.8640000000000001, 0.861, 0.8605]\n",
      "cnt_vec((1, 2), 20000), svc: 0.8414999999999999\n",
      "cnt_vec((1, 2), 20000), lr: 0.851\n",
      "cnt_vec((1, 2), 20000), sgd: 0.8320000000000001\n",
      "top 5 scores: [0.866, 0.8600000000000001, 0.8640000000000001, 0.861, 0.8605]\n",
      "cnt_vec((1, 2), 50000), svc: 0.8299999999999998\n",
      "cnt_vec((1, 2), 50000), lr: 0.8455\n",
      "cnt_vec((1, 2), 50000), sgd: 0.827\n",
      "top 5 scores: [0.866, 0.8600000000000001, 0.8640000000000001, 0.861, 0.8605]\n",
      "cnt_vec((1, 2), 80000), svc: 0.8305\n",
      "cnt_vec((1, 2), 80000), lr: 0.8465\n",
      "cnt_vec((1, 2), 80000), sgd: 0.8379999999999999\n",
      "top 5 scores: [0.866, 0.8600000000000001, 0.8640000000000001, 0.861, 0.8605]\n",
      "cnt_vec((1, 3), None), svc: 0.8314999999999999\n",
      "cnt_vec((1, 3), None), lr: 0.8465\n",
      "cnt_vec((1, 3), None), sgd: 0.8480000000000001\n",
      "top 5 scores: [0.866, 0.8600000000000001, 0.8640000000000001, 0.861, 0.8605]\n",
      "cnt_vec((1, 3), 20000), svc: 0.8404999999999999\n",
      "cnt_vec((1, 3), 20000), lr: 0.8504999999999999\n",
      "cnt_vec((1, 3), 20000), sgd: 0.826\n",
      "top 5 scores: [0.866, 0.8600000000000001, 0.8640000000000001, 0.861, 0.8605]\n",
      "cnt_vec((1, 3), 50000), svc: 0.8329999999999999\n",
      "cnt_vec((1, 3), 50000), lr: 0.8455\n",
      "cnt_vec((1, 3), 50000), sgd: 0.841\n",
      "top 5 scores: [0.866, 0.8600000000000001, 0.8640000000000001, 0.861, 0.8605]\n",
      "cnt_vec((1, 3), 80000), svc: 0.8310000000000001\n",
      "cnt_vec((1, 3), 80000), lr: 0.8455\n",
      "cnt_vec((1, 3), 80000), sgd: 0.837\n",
      "top 5 scores: [0.866, 0.8600000000000001, 0.8640000000000001, 0.861, 0.8605]\n"
     ]
    }
   ],
   "source": [
    "k = 5\n",
    "top_k_models = [None] * k\n",
    "top_k_scores = [0] * k\n",
    "\n",
    "for vect_name, vect in vectorizers:\n",
    "    for ngram in ngram_ranges:\n",
    "        for max_feat in max_features:\n",
    "            for clf_name, clf in classifiers:\n",
    "                np.random.seed(42)\n",
    "                pipe = Pipeline([('vectorizer', vect(ngram_range=ngram, max_features=max_feat)),\n",
    "                                 ('dim_red', dim_red),\n",
    "                                 ('clf', clf)])\n",
    "                cand_score = cross_val_score(pipe, X, y, cv=5).mean()\n",
    "                worst_score = 1\n",
    "                worst_score_idx = 0\n",
    "                for i, score in enumerate(top_k_scores):\n",
    "                    if score < worst_score:\n",
    "                        worst_score = score\n",
    "                        worst_score_idx = i\n",
    "                if cand_score > worst_score:\n",
    "                    top_k_scores[worst_score_idx] = cand_score\n",
    "                    top_k_models[worst_score_idx] = pipe\n",
    "                print(f\"{vect_name}({ngram}, {max_feat}), {clf_name}: {cand_score}\")\n",
    "            print(f\"top {k} scores: {top_k_scores}\")"
   ]
  },
  {
   "cell_type": "code",
   "execution_count": 117,
   "metadata": {},
   "outputs": [
    {
     "data": {
      "text/plain": [
       "0.866"
      ]
     },
     "execution_count": 117,
     "metadata": {},
     "output_type": "execute_result"
    }
   ],
   "source": [
    "# Single best model:\n",
    "cross_val_score(top_k_models[0], X, y, cv=5).mean()"
   ]
  },
  {
   "cell_type": "code",
   "execution_count": 108,
   "metadata": {},
   "outputs": [],
   "source": [
    "#adding stacking\n",
    "from mlxtend.classifier import StackingClassifier"
   ]
  },
  {
   "cell_type": "code",
   "execution_count": 110,
   "metadata": {},
   "outputs": [],
   "source": [
    "stack = StackingClassifier(top_k_models, LogisticRegression(random_state=42))"
   ]
  },
  {
   "cell_type": "code",
   "execution_count": 115,
   "metadata": {},
   "outputs": [
    {
     "data": {
      "text/plain": [
       "0.8664999999999999"
      ]
     },
     "execution_count": 115,
     "metadata": {},
     "output_type": "execute_result"
    }
   ],
   "source": [
    "cross_val_score(stack, X, y, cv=5).mean()"
   ]
  },
  {
   "cell_type": "code",
   "execution_count": 118,
   "metadata": {},
   "outputs": [],
   "source": [
    "import xgboost\n",
    "stack2 = StackingClassifier(top_k_models, xgboost.XGBRFClassifier(random_state=42))"
   ]
  },
  {
   "cell_type": "code",
   "execution_count": 119,
   "metadata": {},
   "outputs": [
    {
     "data": {
      "text/plain": [
       "0.866"
      ]
     },
     "execution_count": 119,
     "metadata": {},
     "output_type": "execute_result"
    }
   ],
   "source": [
    "cross_val_score(stack2, X, y, cv=5).mean()"
   ]
  },
  {
   "cell_type": "code",
   "execution_count": 120,
   "metadata": {},
   "outputs": [
    {
     "data": {
      "text/plain": [
       "0.8664999999999999"
      ]
     },
     "execution_count": 120,
     "metadata": {},
     "output_type": "execute_result"
    }
   ],
   "source": [
    "stack3 = StackingClassifier(top_k_models, LinearSVC(random_state=42))\n",
    "cross_val_score(stack3, X, y, cv=5).mean()"
   ]
  },
  {
   "cell_type": "code",
   "execution_count": 122,
   "metadata": {},
   "outputs": [
    {
     "data": {
      "text/plain": [
       "['data_only_stack.joblib']"
      ]
     },
     "execution_count": 122,
     "metadata": {},
     "output_type": "execute_result"
    }
   ],
   "source": [
    "from joblib import dump\n",
    "dump(stack, 'data_only_stack.joblib')"
   ]
  }
 ],
 "metadata": {
  "kernelspec": {
   "display_name": "Python 3",
   "language": "python",
   "name": "python3"
  },
  "language_info": {
   "codemirror_mode": {
    "name": "ipython",
    "version": 3
   },
   "file_extension": ".py",
   "mimetype": "text/x-python",
   "name": "python",
   "nbconvert_exporter": "python",
   "pygments_lexer": "ipython3",
   "version": "3.6.8"
  }
 },
 "nbformat": 4,
 "nbformat_minor": 2
}
